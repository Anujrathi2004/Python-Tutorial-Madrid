{
 "cells": [
  {
   "cell_type": "code",
   "execution_count": 1,
   "id": "4f7543ab-aa32-4918-b6e8-7cbcf1729f6c",
   "metadata": {},
   "outputs": [],
   "source": [
    "#ZIP"
   ]
  },
  {
   "cell_type": "code",
   "execution_count": 2,
   "id": "daa960d0-7b29-42f5-a1e1-16a24270479e",
   "metadata": {},
   "outputs": [],
   "source": [
    "a=[\"John\",\"peter\",'nishant']\n",
    "b=[\"Anuj\",\"Nikhil\"]"
   ]
  },
  {
   "cell_type": "code",
   "execution_count": 3,
   "id": "6ad35287-02be-42f8-9feb-a5575f573ff0",
   "metadata": {},
   "outputs": [
    {
     "data": {
      "text/plain": [
       "[('John', 'Anuj'), ('peter', 'Nikhil')]"
      ]
     },
     "execution_count": 3,
     "metadata": {},
     "output_type": "execute_result"
    }
   ],
   "source": [
    "list(zip(a,b))"
   ]
  },
  {
   "cell_type": "code",
   "execution_count": 5,
   "id": "5f2bdede-4938-4ec3-9a6b-c2d7bf55e3b0",
   "metadata": {},
   "outputs": [],
   "source": [
    "a=\"bhushan\"\n",
    "b=\"jkgdjgbjknsdcksnck\""
   ]
  },
  {
   "cell_type": "code",
   "execution_count": 6,
   "id": "bd35e210-bcc6-43e7-9e5d-a51338844da5",
   "metadata": {},
   "outputs": [
    {
     "data": {
      "text/plain": [
       "[('b', 'j'),\n",
       " ('h', 'k'),\n",
       " ('u', 'g'),\n",
       " ('s', 'd'),\n",
       " ('h', 'j'),\n",
       " ('a', 'g'),\n",
       " ('n', 'b')]"
      ]
     },
     "execution_count": 6,
     "metadata": {},
     "output_type": "execute_result"
    }
   ],
   "source": [
    "list(zip(a,b))"
   ]
  },
  {
   "cell_type": "code",
   "execution_count": 9,
   "id": "058f7657-84d1-4943-abc4-72420333b2c9",
   "metadata": {},
   "outputs": [
    {
     "data": {
      "text/plain": [
       "[(1, 'one'), (2, 'two'), (3, 'three'), (3, 'three')]"
      ]
     },
     "execution_count": 9,
     "metadata": {},
     "output_type": "execute_result"
    }
   ],
   "source": [
    "number_list=[1,2,3,3]\n",
    "str_list=['one','two','three','three']\n",
    "\n",
    "result=zip(number_list, str_list)\n",
    "list(result)"
   ]
  },
  {
   "cell_type": "code",
   "execution_count": 10,
   "id": "3e8c0b62-24db-49ad-ba06-9563bfe8a62d",
   "metadata": {},
   "outputs": [
    {
     "data": {
      "text/plain": [
       "{(1, 'one'), (2, 'two'), (3, 'three')}"
      ]
     },
     "execution_count": 10,
     "metadata": {},
     "output_type": "execute_result"
    }
   ],
   "source": [
    "number_list=[1,2,3,3]\n",
    "str_list=['one','two','three','three']\n",
    "\n",
    "result=zip(number_list, str_list)\n",
    "set(list(result))"
   ]
  },
  {
   "cell_type": "code",
   "execution_count": 11,
   "id": "b741105b-565f-4ca4-9741-a6a1e142ccde",
   "metadata": {},
   "outputs": [
    {
     "name": "stdout",
     "output_type": "stream",
     "text": [
      "[(1, 'ONE'), (2, 'TWO'), (3, 'THREE')]\n"
     ]
    },
    {
     "data": {
      "text/plain": [
       "[(1, 'one', 'ONE'), (2, 'two', 'TWO')]"
      ]
     },
     "execution_count": 11,
     "metadata": {},
     "output_type": "execute_result"
    }
   ],
   "source": [
    "numberList=[1,2,3]\n",
    "str_list=['one', 'two']\n",
    "number_tuple=('ONE', 'TWO', 'THREE', 'FOUR')\n",
    "\n",
    "result=zip(numberList, number_tuple)\n",
    "print(list(result))\n",
    "\n",
    "result1=zip(numberList, str_list, number_tuple)\n",
    "list(result1)"
   ]
  },
  {
   "cell_type": "code",
   "execution_count": 15,
   "id": "69d15939-5446-4355-b01b-16446148ce37",
   "metadata": {},
   "outputs": [
    {
     "name": "stdout",
     "output_type": "stream",
     "text": [
      "[('x', 3), ('y', 4), ('z', 5)]\n"
     ]
    }
   ],
   "source": [
    "#Unzipping\n",
    "\n",
    "coordinate=['x','y','z']\n",
    "value=[3,4,5]\n",
    "\n",
    "result=zip(coordinate, value)\n",
    "result_list= list(result)\n",
    "print(result_list)\n",
    "\n",
    "c, v= zip(*result_list)"
   ]
  },
  {
   "cell_type": "code",
   "execution_count": 16,
   "id": "f195c5d0-d2b6-438c-a157-d033b650a950",
   "metadata": {},
   "outputs": [
    {
     "data": {
      "text/plain": [
       "('x', 'y', 'z')"
      ]
     },
     "execution_count": 16,
     "metadata": {},
     "output_type": "execute_result"
    }
   ],
   "source": [
    "c"
   ]
  },
  {
   "cell_type": "code",
   "execution_count": 17,
   "id": "5728a9a8-64ec-4a9a-b660-858f75d25af8",
   "metadata": {},
   "outputs": [
    {
     "data": {
      "text/plain": [
       "(3, 4, 5)"
      ]
     },
     "execution_count": 17,
     "metadata": {},
     "output_type": "execute_result"
    }
   ],
   "source": [
    "v"
   ]
  },
  {
   "cell_type": "code",
   "execution_count": 18,
   "id": "ed989cb6-49f4-46dd-8c74-7f180ee8e159",
   "metadata": {},
   "outputs": [
    {
     "name": "stdout",
     "output_type": "stream",
     "text": [
      "ashwani\n",
      "Anuj\n"
     ]
    }
   ],
   "source": [
    "a=[\"ashwani\",\"Anuj\",\"ashish\"]\n",
    "b=[90,70,60]\n",
    "\n",
    "for i,j in zip(a,b):\n",
    "    if j>=70:\n",
    "        print(i)"
   ]
  },
  {
   "cell_type": "code",
   "execution_count": 19,
   "id": "85f76c39-c5cb-4aea-bd6d-522cd7b379b5",
   "metadata": {},
   "outputs": [
    {
     "data": {
      "text/plain": [
       "[6, 10, 13]"
      ]
     },
     "execution_count": 19,
     "metadata": {},
     "output_type": "execute_result"
    }
   ],
   "source": [
    "a=[1,2,3]\n",
    "b=[4,5,6]\n",
    "c=[1,3,4]\n",
    "\n",
    "x=list(map(lambda x,y,z: x+y+z,a,b,c))\n",
    "x"
   ]
  },
  {
   "cell_type": "code",
   "execution_count": 20,
   "id": "dcf46ab0-6f9a-48f2-9271-aa340b63e81f",
   "metadata": {},
   "outputs": [
    {
     "data": {
      "text/plain": [
       "[6, 10, 13]"
      ]
     },
     "execution_count": 20,
     "metadata": {},
     "output_type": "execute_result"
    }
   ],
   "source": [
    "d=[]\n",
    "for i,j,k in zip(a,b,c):\n",
    "    d.append(i+j+k)\n",
    "d"
   ]
  },
  {
   "cell_type": "code",
   "execution_count": 21,
   "id": "ac384b9d-0ec6-4e3b-bced-c6b86d9b7781",
   "metadata": {},
   "outputs": [
    {
     "name": "stdout",
     "output_type": "stream",
     "text": [
      "AA nn uu rr aa gg "
     ]
    }
   ],
   "source": [
    "name=\"Anurag\"\n",
    "for i in name:\n",
    "    print(i+i,end=\" \")"
   ]
  },
  {
   "cell_type": "code",
   "execution_count": 24,
   "id": "96d5040e-dca7-4110-bb3d-312a965d978c",
   "metadata": {},
   "outputs": [
    {
     "data": {
      "text/plain": [
       "['AA', 'nn', 'uu', 'rr', 'aa', 'gg']"
      ]
     },
     "execution_count": 24,
     "metadata": {},
     "output_type": "execute_result"
    }
   ],
   "source": [
    "w=[i+i for i in name]\n",
    "w"
   ]
  },
  {
   "cell_type": "code",
   "execution_count": 25,
   "id": "8562cd50-f8c2-4127-9563-e3742e043d03",
   "metadata": {},
   "outputs": [
    {
     "data": {
      "text/plain": [
       "[1, 4, 9, 16, 25, 36]"
      ]
     },
     "execution_count": 25,
     "metadata": {},
     "output_type": "execute_result"
    }
   ],
   "source": [
    "A=[i*i for i in [1,2,3,4,5,6]]\n",
    "A"
   ]
  },
  {
   "cell_type": "code",
   "execution_count": 26,
   "id": "71febbbb-77a2-406f-9299-09a44775c116",
   "metadata": {},
   "outputs": [
    {
     "data": {
      "text/plain": [
       "[1, 4, 9, 16, 25, 36]"
      ]
     },
     "execution_count": 26,
     "metadata": {},
     "output_type": "execute_result"
    }
   ],
   "source": [
    "res=list(map(lambda x:x*x,[1,2,3,4,5,6]))\n",
    "res"
   ]
  },
  {
   "cell_type": "code",
   "execution_count": 27,
   "id": "b539a423-6324-4f2c-a680-fee9a9eee680",
   "metadata": {},
   "outputs": [
    {
     "data": {
      "text/plain": [
       "[8, 16, 24, 32, 40]"
      ]
     },
     "execution_count": 27,
     "metadata": {},
     "output_type": "execute_result"
    }
   ],
   "source": [
    "y=[i*4 for i in [2,3,4,5,6,7,8,10] if i%2==0]\n",
    "y"
   ]
  },
  {
   "cell_type": "code",
   "execution_count": 30,
   "id": "785a68ae-1989-4eb7-86d0-1c8a3747bba6",
   "metadata": {},
   "outputs": [
    {
     "data": {
      "text/plain": [
       "[0, 14, 28, 42, 56, 70, 84, 98]"
      ]
     },
     "execution_count": 30,
     "metadata": {},
     "output_type": "execute_result"
    }
   ],
   "source": [
    "num_list = [y for y in range(100) if y%2==0 and y%7==0]\n",
    "num_list"
   ]
  },
  {
   "cell_type": "code",
   "execution_count": 32,
   "id": "3a587ae2-158f-4743-ae73-a054263fe437",
   "metadata": {},
   "outputs": [
    {
     "data": {
      "text/plain": [
       "[0, 'odd', 2, 'odd', 4, 'odd', 6, 'odd', 8, 'odd']"
      ]
     },
     "execution_count": 32,
     "metadata": {},
     "output_type": "execute_result"
    }
   ],
   "source": [
    "obj = [i if i%2==0 else \"odd\" for i in range(10)]\n",
    "obj"
   ]
  },
  {
   "cell_type": "code",
   "execution_count": 33,
   "id": "d53082fa-b8ef-41ed-ba2d-ff03d770a73e",
   "metadata": {},
   "outputs": [],
   "source": [
    "#RECURSION"
   ]
  },
  {
   "cell_type": "code",
   "execution_count": 34,
   "id": "b1f02d92-1c9d-44c1-bf5f-64fb67512c85",
   "metadata": {},
   "outputs": [
    {
     "name": "stdout",
     "output_type": "stream",
     "text": [
      "28\n"
     ]
    }
   ],
   "source": [
    "#sum of n natural numbers\n",
    "\n",
    "def sums(n):\n",
    "    if n==1:\n",
    "        return 1\n",
    "    else:\n",
    "        return n+sums(n-1)\n",
    "\n",
    "print(sums(7))"
   ]
  },
  {
   "cell_type": "code",
   "execution_count": 35,
   "id": "d8a48c67-63b3-445c-a79a-0ffeaa42f6f5",
   "metadata": {},
   "outputs": [
    {
     "name": "stdout",
     "output_type": "stream",
     "text": [
      "5040\n"
     ]
    }
   ],
   "source": [
    "# factorial \n",
    "\n",
    "def fact(n):\n",
    "    if n==0:\n",
    "        return 1\n",
    "    elif n==1:\n",
    "        return 1\n",
    "    else:\n",
    "        return n*fact(n-1)\n",
    "\n",
    "print(fact(7))"
   ]
  },
  {
   "cell_type": "code",
   "execution_count": 2,
   "id": "6a0e0a95-d3a7-451a-b6c1-2e543fc4ff00",
   "metadata": {},
   "outputs": [
    {
     "name": "stdout",
     "output_type": "stream",
     "text": [
      "0 1 1 2 3 5 8 13 21 34 "
     ]
    }
   ],
   "source": [
    "#Fibonacci series\n",
    "#0 1 1 2 3 5 8 13 21 34\n",
    "\n",
    "f=0\n",
    "s=1\n",
    "for i in range(10):\n",
    "    if i<=1:\n",
    "        next=i\n",
    "    else:\n",
    "        next=f+s\n",
    "        f=s\n",
    "        s=next\n",
    "    print(next,end=\" \")"
   ]
  },
  {
   "cell_type": "code",
   "execution_count": null,
   "id": "41ded1fd-40f9-4ea4-8e44-44f0ecdadf25",
   "metadata": {},
   "outputs": [],
   "source": []
  }
 ],
 "metadata": {
  "kernelspec": {
   "display_name": "Python 3 (ipykernel)",
   "language": "python",
   "name": "python3"
  },
  "language_info": {
   "codemirror_mode": {
    "name": "ipython",
    "version": 3
   },
   "file_extension": ".py",
   "mimetype": "text/x-python",
   "name": "python",
   "nbconvert_exporter": "python",
   "pygments_lexer": "ipython3",
   "version": "3.11.7"
  }
 },
 "nbformat": 4,
 "nbformat_minor": 5
}
