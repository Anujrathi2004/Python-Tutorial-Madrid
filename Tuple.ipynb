{
 "cells": [
  {
   "cell_type": "code",
   "execution_count": 10,
   "id": "434794f4-817d-450b-b6b4-af93cac5a9db",
   "metadata": {},
   "outputs": [
    {
     "name": "stdout",
     "output_type": "stream",
     "text": [
      "12\n",
      "23\n",
      "34\n",
      "45\n",
      "56\n"
     ]
    }
   ],
   "source": [
    "#PACKING OF TUPLE\n",
    "\n",
    "t1=12,23,34,45,56\n",
    "a,b,c,d,e=t1  #UNPACKING A TUPLE\n",
    "print(a)\n",
    "print(b)\n",
    "print(c)\n",
    "print(d)\n",
    "print(e)"
   ]
  },
  {
   "cell_type": "code",
   "execution_count": 11,
   "id": "1cba008c-fdd5-4c03-a5c4-2cc0a7b380fb",
   "metadata": {},
   "outputs": [
    {
     "name": "stdout",
     "output_type": "stream",
     "text": [
      "<class 'int'>\n"
     ]
    }
   ],
   "source": [
    "t2=(12)\n",
    "print(type(t2))"
   ]
  },
  {
   "cell_type": "code",
   "execution_count": 12,
   "id": "c4980415-f520-4940-b979-8ba36a114d2b",
   "metadata": {},
   "outputs": [
    {
     "name": "stdout",
     "output_type": "stream",
     "text": [
      "<class 'tuple'>\n"
     ]
    }
   ],
   "source": [
    "t2=(12,)\n",
    "print(type(t2))"
   ]
  },
  {
   "cell_type": "code",
   "execution_count": 13,
   "id": "bafb9158-8f3a-457a-a4e9-cc95b8db6eaf",
   "metadata": {},
   "outputs": [
    {
     "name": "stdout",
     "output_type": "stream",
     "text": [
      "12\n",
      "45\n",
      "67\n",
      "56\n"
     ]
    }
   ],
   "source": [
    "#ACCESSING TUPLE\n",
    "\n",
    "t1=(12,23,34,45,56,67)\n",
    "print(t1[0])\n",
    "print(t1[3])\n",
    "print(t1[-1])\n",
    "print(t1[-2])"
   ]
  },
  {
   "cell_type": "code",
   "execution_count": 14,
   "id": "03a10d4a-4ece-4c6f-a1db-90404d7ffcfc",
   "metadata": {},
   "outputs": [
    {
     "name": "stdout",
     "output_type": "stream",
     "text": [
      "(12, 23, 34, 45, 'how', 'are')\n"
     ]
    }
   ],
   "source": [
    "#UPDATING IN TUPLE\n",
    "\n",
    "t1=(12,23,34,45)\n",
    "t2=(\"how\",\"are\")\n",
    "print(t1+t2)"
   ]
  },
  {
   "cell_type": "code",
   "execution_count": 15,
   "id": "8de5ccb7-ebbf-4a49-b8e8-fe9672fe2188",
   "metadata": {},
   "outputs": [
    {
     "name": "stdout",
     "output_type": "stream",
     "text": [
      "(12, 23, 34, 45, 56, 23, 67)\n",
      "1\n"
     ]
    }
   ],
   "source": [
    "# index() METHOD IN TUPLE\n",
    "\n",
    "t1=(12,23,34,45,56,23,67)\n",
    "print(t1)\n",
    "x=t1.index(23)\n",
    "print(x)"
   ]
  },
  {
   "cell_type": "code",
   "execution_count": 16,
   "id": "88c6106d-c710-4a3e-b918-57508c369f0d",
   "metadata": {},
   "outputs": [
    {
     "name": "stdout",
     "output_type": "stream",
     "text": [
      "(1, 2, 3, 4, 5, 6, 7, 8)\n"
     ]
    }
   ],
   "source": [
    "#ADDING ELEMENT IN TUPLE\n",
    "\n",
    "t1=(1,2,3,4,5,6,7)\n",
    "ls=list(t1)\n",
    "ls.append(8)\n",
    "t1=tuple(ls)\n",
    "print(t1)"
   ]
  },
  {
   "cell_type": "code",
   "execution_count": 23,
   "id": "282571c5-ac2b-4b9c-93ac-f92c7cf02e5d",
   "metadata": {},
   "outputs": [
    {
     "name": "stdout",
     "output_type": "stream",
     "text": [
      "(1, 2, 'Hello', 4, 5, 6, 7)\n"
     ]
    }
   ],
   "source": [
    "#UPDATING ELEMENT IN TUPLE\n",
    "\n",
    "t1=(1,2,3,4,5,6,7)\n",
    "ls=list(t1)\n",
    "ls[2]=\"Hello\"\n",
    "t1=tuple(ls)\n",
    "print(t1)"
   ]
  },
  {
   "cell_type": "code",
   "execution_count": 24,
   "id": "c0a266d5-8386-4273-93fd-ea9daa504776",
   "metadata": {},
   "outputs": [
    {
     "name": "stdout",
     "output_type": "stream",
     "text": [
      "(1, 2, 'Hello', 4, 5, 6, 7)\n"
     ]
    }
   ],
   "source": [
    "#DELETING WHOLE TUPLE IS POSSIBLE\n",
    "\n",
    "del t1\n",
    "print(t1)"
   ]
  },
  {
   "cell_type": "code",
   "execution_count": 25,
   "id": "7daca3da-0ec2-4140-9b8e-a9ffa3349f1a",
   "metadata": {},
   "outputs": [
    {
     "name": "stdout",
     "output_type": "stream",
     "text": [
      "{0, True, 'steve', 10.5}\n"
     ]
    }
   ],
   "source": [
    "emp={'steve',0,10.5,True}\n",
    "print(emp)"
   ]
  },
  {
   "cell_type": "code",
   "execution_count": 26,
   "id": "b43ae7e2-bc51-447b-8d69-e93716b3a9b5",
   "metadata": {},
   "outputs": [
    {
     "data": {
      "text/plain": [
       "{1, 2, 3, 4, 5}"
      ]
     },
     "execution_count": 26,
     "metadata": {},
     "output_type": "execute_result"
    }
   ],
   "source": [
    "nums={1,2,2,3,4,4,5,5}\n",
    "nums"
   ]
  },
  {
   "cell_type": "code",
   "execution_count": 27,
   "id": "bbac6e8f-1d3b-4373-a19d-da42dafa0550",
   "metadata": {},
   "outputs": [
    {
     "data": {
      "text/plain": [
       "{(10, 10), 10, 20}"
      ]
     },
     "execution_count": 27,
     "metadata": {},
     "output_type": "execute_result"
    }
   ],
   "source": [
    "myset={(10,10),10,20}\n",
    "myset"
   ]
  },
  {
   "cell_type": "code",
   "execution_count": null,
   "id": "b7fb67d6-6fe5-4d0f-b517-2af332620ece",
   "metadata": {},
   "outputs": [],
   "source": []
  }
 ],
 "metadata": {
  "kernelspec": {
   "display_name": "Python 3 (ipykernel)",
   "language": "python",
   "name": "python3"
  },
  "language_info": {
   "codemirror_mode": {
    "name": "ipython",
    "version": 3
   },
   "file_extension": ".py",
   "mimetype": "text/x-python",
   "name": "python",
   "nbconvert_exporter": "python",
   "pygments_lexer": "ipython3",
   "version": "3.11.7"
  }
 },
 "nbformat": 4,
 "nbformat_minor": 5
}
