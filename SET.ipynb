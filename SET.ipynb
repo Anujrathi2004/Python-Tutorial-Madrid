{
 "cells": [
  {
   "cell_type": "code",
   "execution_count": 1,
   "id": "9474fdae-5475-43e8-a284-3745d86ed930",
   "metadata": {},
   "outputs": [
    {
     "name": "stdout",
     "output_type": "stream",
     "text": [
      "Set after using 'clear()' method:  set()\n"
     ]
    }
   ],
   "source": [
    "#USING clear() IN SET\n",
    "\n",
    "langs={'Python','C++','C','Go'}\n",
    "langs.clear()\n",
    "print(\"Set after using 'clear()' method: \",langs)"
   ]
  },
  {
   "cell_type": "code",
   "execution_count": 2,
   "id": "44b810ff-5ea6-4be5-ae0a-62f8a9f0f3b9",
   "metadata": {},
   "outputs": [
    {
     "name": "stdout",
     "output_type": "stream",
     "text": [
      "Original Set:  {'Java', 'Python', 'C++', 'C'}\n",
      "Copied Set:  {'Java', 'Python', 'C++', 'C'}\n"
     ]
    }
   ],
   "source": [
    "#USING copy() IN SET\n",
    "\n",
    "langs={'Python','C++','C','Java'}\n",
    "clangs=langs.copy()\n",
    "print(\"Original Set: \",langs)\n",
    "print(\"Copied Set: \",clangs)"
   ]
  },
  {
   "cell_type": "code",
   "execution_count": 3,
   "id": "1a213703-38c8-45ca-9d17-1b91066a37b9",
   "metadata": {},
   "outputs": [
    {
     "name": "stdout",
     "output_type": "stream",
     "text": [
      "nums1-nums2:  {1, 2, 3}\n",
      "nums2-nums1:  {8, 6, 7}\n"
     ]
    }
   ],
   "source": [
    "#USING difference() IN SET\n",
    "\n",
    "nums1={1,2,2,3,4,5}\n",
    "nums2={4,5,6,7,8,8}\n",
    "nums3=nums1.difference(nums2)\n",
    "nums4=nums2.difference(nums1)\n",
    "print(\"nums1-nums2: \",nums3)\n",
    "print(\"nums2-nums1: \",nums4)"
   ]
  },
  {
   "cell_type": "code",
   "execution_count": 4,
   "id": "5c7845ff-ab04-4bdf-af34-c34f2cd76379",
   "metadata": {},
   "outputs": [
    {
     "name": "stdout",
     "output_type": "stream",
     "text": [
      "The common numbers are:  {4, 5}\n"
     ]
    }
   ],
   "source": [
    "#USING intersection() IN SET\n",
    "\n",
    "nums1={1,2,2,3,4,5}\n",
    "nums2={4,5,6,7,8,8}\n",
    "nums3=nums1.intersection(nums2)\n",
    "print(\"The common numbers are: \",nums3)"
   ]
  },
  {
   "cell_type": "code",
   "execution_count": 5,
   "id": "3d79ada4-f3fd-40f1-9c90-fabb2703d146",
   "metadata": {},
   "outputs": [
    {
     "name": "stdout",
     "output_type": "stream",
     "text": [
      "The common numbers are:  {3, 4, 5}\n"
     ]
    }
   ],
   "source": [
    "#USING intersection() IN SET\n",
    "\n",
    "nums1={1,2,3,4,5}\n",
    "nums2={2,3,4,5,6}\n",
    "nums3={3,4,5,6,7}\n",
    "nums4=nums1.intersection(nums2,nums3)\n",
    "print(\"The common numbers are: \",nums4)"
   ]
  },
  {
   "cell_type": "code",
   "execution_count": 6,
   "id": "4013f4c1-309a-431e-8bfe-df10d0c9a306",
   "metadata": {},
   "outputs": [
    {
     "name": "stdout",
     "output_type": "stream",
     "text": [
      "The union of two sets is:  {1, 2, 3, 4, 5, 6, 7, 8}\n"
     ]
    }
   ],
   "source": [
    "#USING union() IN SET\n",
    "\n",
    "nums1={1,2,2,3,4,5}\n",
    "nums2={4,5,6,7,8,8}\n",
    "distinct_nums= nums1.union(nums2)\n",
    "print(\"The union of two sets is: \",distinct_nums)"
   ]
  },
  {
   "cell_type": "code",
   "execution_count": null,
   "id": "edfb6497-b688-4fca-bf7b-93848481fc9e",
   "metadata": {},
   "outputs": [],
   "source": []
  }
 ],
 "metadata": {
  "kernelspec": {
   "display_name": "Python 3 (ipykernel)",
   "language": "python",
   "name": "python3"
  },
  "language_info": {
   "codemirror_mode": {
    "name": "ipython",
    "version": 3
   },
   "file_extension": ".py",
   "mimetype": "text/x-python",
   "name": "python",
   "nbconvert_exporter": "python",
   "pygments_lexer": "ipython3",
   "version": "3.11.7"
  }
 },
 "nbformat": 4,
 "nbformat_minor": 5
}
