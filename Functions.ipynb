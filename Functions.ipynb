{
 "cells": [
  {
   "cell_type": "code",
   "execution_count": 1,
   "id": "ac812269-0feb-4829-9165-5da50aeae149",
   "metadata": {},
   "outputs": [],
   "source": [
    "#FUNCTIONS"
   ]
  },
  {
   "cell_type": "code",
   "execution_count": 2,
   "id": "21a400d7-0fc5-4540-8c8d-ef1b8077b996",
   "metadata": {},
   "outputs": [],
   "source": [
    "def addition():\n",
    "    a=int(input(\"Enter th value of A: \"))\n",
    "    b=int(input(\"Enter th value of B: \"))\n",
    "    c=a+b\n",
    "    print(\"The sum is: \",c)"
   ]
  },
  {
   "cell_type": "code",
   "execution_count": 3,
   "id": "85fabc55-f9bf-4a64-a200-ea26ffc5a0d2",
   "metadata": {},
   "outputs": [
    {
     "name": "stdin",
     "output_type": "stream",
     "text": [
      "Enter th value of A:  7\n",
      "Enter th value of B:  7\n"
     ]
    },
    {
     "name": "stdout",
     "output_type": "stream",
     "text": [
      "The sum is:  14\n"
     ]
    }
   ],
   "source": [
    "addition()"
   ]
  },
  {
   "cell_type": "code",
   "execution_count": 4,
   "id": "7bf75fc0-5914-46b9-a8cb-544db3cf894a",
   "metadata": {},
   "outputs": [
    {
     "name": "stdin",
     "output_type": "stream",
     "text": [
      "Enter th value of A:  7\n",
      "Enter th value of B:  7\n"
     ]
    },
    {
     "name": "stdout",
     "output_type": "stream",
     "text": [
      "The sum is:  14\n"
     ]
    }
   ],
   "source": [
    "addition()"
   ]
  },
  {
   "cell_type": "code",
   "execution_count": 7,
   "id": "21ee1cf2-dce2-49e2-a021-e4b4f2edd06a",
   "metadata": {},
   "outputs": [],
   "source": [
    "def simple_interest():\n",
    "    p=int(input(\"Enter th principle amount: \"))\n",
    "    r=float(input(\"Enter the interest rate: \"))\n",
    "    t=int(input(\"Enter th time: \"))\n",
    "    si=(p*r*t)/100\n",
    "    print(\"The simple interest is: \",si)"
   ]
  },
  {
   "cell_type": "code",
   "execution_count": 8,
   "id": "12f94a65-b428-438f-819b-abe42299afab",
   "metadata": {},
   "outputs": [
    {
     "name": "stdin",
     "output_type": "stream",
     "text": [
      "Enter th principle amount:  100000\n",
      "Enter the interest rate:  2.0\n",
      "Enter th time:  4\n"
     ]
    },
    {
     "name": "stdout",
     "output_type": "stream",
     "text": [
      "The simple interest is:  8000.0\n"
     ]
    }
   ],
   "source": [
    "simple_interest()"
   ]
  },
  {
   "cell_type": "code",
   "execution_count": 11,
   "id": "7f5a118e-0238-4643-88d3-e06e0cf6aea6",
   "metadata": {},
   "outputs": [],
   "source": [
    "def average():\n",
    "    a=int(input(\"Enter th value of A: \"))\n",
    "    b=int(input(\"Enter th value of B: \"))\n",
    "    c=int(input(\"Enter th value of C: \"))\n",
    "    avg=(a+b+c)/3\n",
    "    print(\"The avarage is: \",avg)"
   ]
  },
  {
   "cell_type": "code",
   "execution_count": 12,
   "id": "7561b1eb-67e1-49d8-90b1-071364a985bb",
   "metadata": {},
   "outputs": [
    {
     "name": "stdin",
     "output_type": "stream",
     "text": [
      "Enter th value of A:  7\n",
      "Enter th value of B:  8\n",
      "Enter th value of C:  9\n"
     ]
    },
    {
     "name": "stdout",
     "output_type": "stream",
     "text": [
      "The avarage is:  8.0\n"
     ]
    }
   ],
   "source": [
    "average()"
   ]
  },
  {
   "cell_type": "code",
   "execution_count": 16,
   "id": "95003c88-14bb-457b-9a52-7c607510d692",
   "metadata": {},
   "outputs": [],
   "source": [
    "def percentage():\n",
    "    m=int(input(\"Enter the marks of MATH: \"))\n",
    "    e=int(input(\"Enter the marks of ENGLISH: \"))\n",
    "    h=int(input(\"Enter the marks of HINDI: \"))\n",
    "    s=int(input(\"Enter the marks of Science: \"))\n",
    "    sst=int(input(\"Enter the marks of SST: \"))\n",
    "    sum=m+e+h+s+sst\n",
    "    per=sum*100/500\n",
    "    print(\"The percentage is: \",per,\"%\")"
   ]
  },
  {
   "cell_type": "code",
   "execution_count": 19,
   "id": "fca44006-188b-4643-9b42-f0d931b34e42",
   "metadata": {},
   "outputs": [
    {
     "name": "stdin",
     "output_type": "stream",
     "text": [
      "Enter the marks of MATH:  98\n",
      "Enter the marks of ENGLISH:  98\n",
      "Enter the marks of HINDI:  98\n",
      "Enter the marks of Science:  98\n",
      "Enter the marks of SST:  98\n"
     ]
    },
    {
     "name": "stdout",
     "output_type": "stream",
     "text": [
      "The percentage is:  98.0 %\n"
     ]
    }
   ],
   "source": [
    "percentage()"
   ]
  },
  {
   "cell_type": "code",
   "execution_count": 20,
   "id": "f073dfce-4a6b-4f11-a383-e82872c936e4",
   "metadata": {},
   "outputs": [],
   "source": [
    "def even_odd():\n",
    "    n=int(input(\"Enter a number: \"))\n",
    "    if n%2==0:\n",
    "        print(\"The number is EVEN\")\n",
    "    else:\n",
    "        print(\"The number is ODD\")"
   ]
  },
  {
   "cell_type": "code",
   "execution_count": 21,
   "id": "073d7825-5047-4edf-a207-f3590b9e9529",
   "metadata": {},
   "outputs": [
    {
     "name": "stdin",
     "output_type": "stream",
     "text": [
      "Enter a number:  56\n"
     ]
    },
    {
     "name": "stdout",
     "output_type": "stream",
     "text": [
      "The number is EVEN\n"
     ]
    }
   ],
   "source": [
    "even_odd()"
   ]
  },
  {
   "cell_type": "code",
   "execution_count": 22,
   "id": "53ed36b9-5df0-421c-9466-99225b471e77",
   "metadata": {},
   "outputs": [],
   "source": [
    "def vote():\n",
    "    n=int(input(\"Enter your age: \"))\n",
    "    if n>=18:\n",
    "        print(\"You are eligible to vote\")\n",
    "    else:\n",
    "        print(\"You are not eligible to vote\")"
   ]
  },
  {
   "cell_type": "code",
   "execution_count": 28,
   "id": "4e853be5-a756-43ec-99a9-be6a784f3e58",
   "metadata": {},
   "outputs": [
    {
     "name": "stdin",
     "output_type": "stream",
     "text": [
      "Enter your age:  19\n"
     ]
    },
    {
     "name": "stdout",
     "output_type": "stream",
     "text": [
      "You are eligible to vote\n"
     ]
    }
   ],
   "source": [
    "vote()"
   ]
  },
  {
   "cell_type": "code",
   "execution_count": 1,
   "id": "82eb990a-786e-4c5f-a2da-1c42248d5f46",
   "metadata": {},
   "outputs": [],
   "source": [
    "#ARGUMENT FUNCTION"
   ]
  },
  {
   "cell_type": "code",
   "execution_count": 2,
   "id": "becffc56-1348-4eda-bf72-794441e3498e",
   "metadata": {},
   "outputs": [],
   "source": [
    "def addition(a,b):\n",
    "    c=a+b\n",
    "    print(\"The sum is \",c)"
   ]
  },
  {
   "cell_type": "code",
   "execution_count": 3,
   "id": "e083a0c9-80a4-4a94-ac25-3023871495f6",
   "metadata": {},
   "outputs": [
    {
     "name": "stdout",
     "output_type": "stream",
     "text": [
      "The sum is  57\n"
     ]
    }
   ],
   "source": [
    "addition(23,34)"
   ]
  },
  {
   "cell_type": "code",
   "execution_count": 4,
   "id": "89e722ee-0031-4bad-8f9e-03698aec8fb3",
   "metadata": {},
   "outputs": [
    {
     "name": "stdin",
     "output_type": "stream",
     "text": [
      " 48\n",
      " 15\n"
     ]
    },
    {
     "name": "stdout",
     "output_type": "stream",
     "text": [
      "The sum is  63\n"
     ]
    }
   ],
   "source": [
    "x=int(input())\n",
    "y=int(input())\n",
    "addition(x,y)"
   ]
  },
  {
   "cell_type": "code",
   "execution_count": 5,
   "id": "d708d5a6-8c30-47cd-beb7-c19005f50acb",
   "metadata": {},
   "outputs": [],
   "source": [
    "#AVERAGE OF 3 NUMBERS\n",
    "\n",
    "def average(a,b,c):\n",
    "    avg=(a+b+c)/3\n",
    "    print(\"The average of 3 numbers is \",avg)"
   ]
  },
  {
   "cell_type": "code",
   "execution_count": 6,
   "id": "881342d8-979f-45bb-9e77-2715eb0dc347",
   "metadata": {},
   "outputs": [
    {
     "name": "stdout",
     "output_type": "stream",
     "text": [
      "The average of 3 numbers is  59.666666666666664\n"
     ]
    }
   ],
   "source": [
    "average(55,48,76)"
   ]
  },
  {
   "cell_type": "code",
   "execution_count": 7,
   "id": "95a68a03-e33c-4c96-86ba-05f0c2670256",
   "metadata": {},
   "outputs": [
    {
     "name": "stdin",
     "output_type": "stream",
     "text": [
      " 10\n",
      " 20\n",
      " 30\n"
     ]
    },
    {
     "name": "stdout",
     "output_type": "stream",
     "text": [
      "The average of 3 numbers is  20.0\n"
     ]
    }
   ],
   "source": [
    "x=int(input())\n",
    "y=int(input())\n",
    "z=int(input())\n",
    "average(x,y,z)"
   ]
  },
  {
   "cell_type": "code",
   "execution_count": 10,
   "id": "e2a72680-1d09-44fb-ac06-ffae4ccb648e",
   "metadata": {},
   "outputs": [],
   "source": [
    "#ODD EVEN NUMBERS\n",
    "\n",
    "def odd_even(a):\n",
    "    if a%2==0:\n",
    "        print(a,\" is an even number\")\n",
    "    else:\n",
    "        print(a,\" is an odd  number\")"
   ]
  },
  {
   "cell_type": "code",
   "execution_count": 11,
   "id": "5f4526fe-9fc8-4e88-b91a-c3ae3b47a630",
   "metadata": {},
   "outputs": [
    {
     "name": "stdout",
     "output_type": "stream",
     "text": [
      "9  is an odd  number\n"
     ]
    }
   ],
   "source": [
    "odd_even(9)"
   ]
  },
  {
   "cell_type": "code",
   "execution_count": 12,
   "id": "1ee943c2-fab0-44ea-aad7-27dd57d698ac",
   "metadata": {},
   "outputs": [],
   "source": [
    "# FIND THE GREATEST NUMBER\n",
    "\n",
    "def greatest(a,b,c):\n",
    "    if a>b:\n",
    "        if a>c:\n",
    "            print(a,\" is greatest\")\n",
    "        else:\n",
    "            print(c,\"is greatest\")\n",
    "    else:\n",
    "        if b>c:\n",
    "            print(b,\" is greatest\")\n",
    "        else:\n",
    "            print(c,\"is greatest\")\n"
   ]
  },
  {
   "cell_type": "code",
   "execution_count": 13,
   "id": "c6c66f2a-44d1-4a58-b725-30b54790c1a0",
   "metadata": {},
   "outputs": [
    {
     "name": "stdout",
     "output_type": "stream",
     "text": [
      "456  is greatest\n"
     ]
    }
   ],
   "source": [
    "greatest(45,456,95)"
   ]
  },
  {
   "cell_type": "code",
   "execution_count": 16,
   "id": "788649c0-638b-4b53-a706-60879dfe23da",
   "metadata": {},
   "outputs": [],
   "source": [
    "#FACTORIAL\n",
    "\n",
    "def factorial(n):\n",
    "    i=1\n",
    "    while n>0:\n",
    "        i=i*n\n",
    "        n=n-1\n",
    "    print(\"The factorial is \",i)"
   ]
  },
  {
   "cell_type": "code",
   "execution_count": 20,
   "id": "528b0546-cbd5-4bd5-b6ee-fb77eaf1e85d",
   "metadata": {},
   "outputs": [
    {
     "name": "stdout",
     "output_type": "stream",
     "text": [
      "The factorial is  5040\n"
     ]
    }
   ],
   "source": [
    "factorial(7)"
   ]
  },
  {
   "cell_type": "code",
   "execution_count": 22,
   "id": "ef5bac83-a73a-4e3a-970d-d4315e7ec04b",
   "metadata": {},
   "outputs": [],
   "source": [
    "def reverse(n):\n",
    "    rev=0\n",
    "    while n>0:\n",
    "        rem=n%10\n",
    "        rev=rev*10+rem\n",
    "        n=n//10\n",
    "    print(\"Reverse number is: \",rev)"
   ]
  },
  {
   "cell_type": "code",
   "execution_count": 23,
   "id": "030a82dc-14ca-4c71-9325-817be66cab31",
   "metadata": {},
   "outputs": [
    {
     "name": "stdout",
     "output_type": "stream",
     "text": [
      "Reverse number is:  3541\n"
     ]
    }
   ],
   "source": [
    "reverse(1453)"
   ]
  },
  {
   "cell_type": "code",
   "execution_count": 24,
   "id": "a583f6f4-eb65-4784-9016-2a6271feec36",
   "metadata": {},
   "outputs": [],
   "source": [
    "# RETURN TYPE FUNCTION"
   ]
  },
  {
   "cell_type": "code",
   "execution_count": 27,
   "id": "82d692d4-a3d4-46f6-84d4-2767e3a2f6b8",
   "metadata": {},
   "outputs": [
    {
     "name": "stdout",
     "output_type": "stream",
     "text": [
      "5040\n",
      "40320\n"
     ]
    }
   ],
   "source": [
    "def factorial(n):\n",
    "    f=1\n",
    "    while n>0:\n",
    "        f=f*n\n",
    "        n=n-1\n",
    "    return f\n",
    "\n",
    "x=factorial(7)\n",
    "print(x)\n",
    "print(factorial(8))"
   ]
  },
  {
   "cell_type": "code",
   "execution_count": 28,
   "id": "9930a6a6-e57f-46ea-bb80-635769b0c205",
   "metadata": {},
   "outputs": [
    {
     "name": "stdout",
     "output_type": "stream",
     "text": [
      "4644351\n"
     ]
    }
   ],
   "source": [
    "def reverse(n):\n",
    "    rev=0\n",
    "    while n>0:\n",
    "        rem=n%10\n",
    "        rev=rev*10+rem\n",
    "        n=n//10\n",
    "    return rev\n",
    "\n",
    "x=reverse(1534464)\n",
    "print(x)"
   ]
  },
  {
   "cell_type": "code",
   "execution_count": 32,
   "id": "c72f4c28-061a-472e-8e8c-29bdee385774",
   "metadata": {},
   "outputs": [
    {
     "name": "stdout",
     "output_type": "stream",
     "text": [
      "Sum is:  90\n",
      "Sub is:  0\n",
      "Mul is:  2025\n",
      "Div is:  1.0\n"
     ]
    }
   ],
   "source": [
    "def all(a,b):\n",
    "    return a+b,a-b,a*b,a/b\n",
    "\n",
    "x,y,z,w=all(45,45)\n",
    "print(\"Sum is: \",x)\n",
    "print(\"Sub is: \",y)\n",
    "print(\"Mul is: \",z)\n",
    "print(\"Div is: \",w)"
   ]
  },
  {
   "cell_type": "code",
   "execution_count": 35,
   "id": "87d1578c-214b-4d0d-87e6-7607f7d818dc",
   "metadata": {},
   "outputs": [
    {
     "name": "stdout",
     "output_type": "stream",
     "text": [
      "1200\n",
      "1300\n",
      "1800\n"
     ]
    }
   ],
   "source": [
    "def addition(a,b=200,c=300):\n",
    "    return a+b+c\n",
    "\n",
    "print(addition(700))\n",
    "print(addition(500,500))\n",
    "print(addition(400,500,900))"
   ]
  },
  {
   "cell_type": "code",
   "execution_count": 1,
   "id": "d46f061c-dda4-4961-b204-cb5bba032e5d",
   "metadata": {},
   "outputs": [],
   "source": [
    "def datascience(a,b,c,d,e):\n",
    "    return(a+b,a*b)"
   ]
  },
  {
   "cell_type": "code",
   "execution_count": 3,
   "id": "081c5215-edb9-49f4-8273-2a9ff54d06ca",
   "metadata": {},
   "outputs": [
    {
     "data": {
      "text/plain": [
       "(9, 14)"
      ]
     },
     "execution_count": 3,
     "metadata": {},
     "output_type": "execute_result"
    }
   ],
   "source": [
    "datascience(2,7,4,8,6)"
   ]
  },
  {
   "cell_type": "code",
   "execution_count": 4,
   "id": "ff6dc86d-68da-4cd7-9b3b-1b1c2c430507",
   "metadata": {},
   "outputs": [
    {
     "data": {
      "text/plain": [
       "947872"
      ]
     },
     "execution_count": 4,
     "metadata": {},
     "output_type": "execute_result"
    }
   ],
   "source": [
    "def sum(r,t,u):\n",
    "    return r+t+u\n",
    "\n",
    "ann=sum(456554,4864,486454)\n",
    "ann"
   ]
  },
  {
   "cell_type": "code",
   "execution_count": 5,
   "id": "3ce0a804-3463-44a4-b93a-98fdd04f1791",
   "metadata": {},
   "outputs": [],
   "source": [
    "def hello(a,b):\n",
    "    return (\"My name is {} and gender is {}\".format(a,b))"
   ]
  },
  {
   "cell_type": "code",
   "execution_count": 6,
   "id": "6bda8ad8-47da-4c15-9782-a85caeb675bc",
   "metadata": {},
   "outputs": [],
   "source": [
    "a=hello(\"Anuj\",\"male\")"
   ]
  },
  {
   "cell_type": "code",
   "execution_count": 7,
   "id": "f86df5c5-7a14-434a-91fe-31c516b4189e",
   "metadata": {},
   "outputs": [
    {
     "data": {
      "text/plain": [
       "'My name is Anuj and gender is male'"
      ]
     },
     "execution_count": 7,
     "metadata": {},
     "output_type": "execute_result"
    }
   ],
   "source": [
    "a"
   ]
  },
  {
   "cell_type": "code",
   "execution_count": 8,
   "id": "abdc2817-aac3-41bb-a28d-6ae55af45218",
   "metadata": {},
   "outputs": [
    {
     "name": "stdout",
     "output_type": "stream",
     "text": [
      "Hii and Bye\n"
     ]
    }
   ],
   "source": [
    "print(\"{} and {}\".format(\"Hii\",\"Bye\"))"
   ]
  },
  {
   "cell_type": "code",
   "execution_count": 10,
   "id": "513ac76f-040d-4cae-aa64-e82794fb81cd",
   "metadata": {},
   "outputs": [
    {
     "name": "stdout",
     "output_type": "stream",
     "text": [
      "1600\n",
      "1600\n",
      "5100\n"
     ]
    }
   ],
   "source": [
    "def addition(a,b=700,c=600):\n",
    "    return a+b+c\n",
    "print(addition(300))\n",
    "print(addition(a=400,c=500))\n",
    "print(addition(100,2000,3000))"
   ]
  },
  {
   "cell_type": "code",
   "execution_count": 11,
   "id": "a80bb97a-7819-40df-8c7b-babe46e1a577",
   "metadata": {},
   "outputs": [],
   "source": [
    "def hello(name,age=20,gender=\"male\"):\n",
    "    return(\"My name is {} and age is {} and gender is {}\".format(name,age,gender))"
   ]
  },
  {
   "cell_type": "code",
   "execution_count": 12,
   "id": "bb889063-4362-494b-8fe0-93d8a2287f64",
   "metadata": {},
   "outputs": [
    {
     "data": {
      "text/plain": [
       "'My name is ANUJ and age is 20 and gender is male'"
      ]
     },
     "execution_count": 12,
     "metadata": {},
     "output_type": "execute_result"
    }
   ],
   "source": [
    "hello(\"ANUJ\")"
   ]
  },
  {
   "cell_type": "code",
   "execution_count": 13,
   "id": "1d99d30e-8a2b-4af5-aa1d-2d9934c06365",
   "metadata": {},
   "outputs": [],
   "source": [
    "u=[1,2,3]"
   ]
  },
  {
   "cell_type": "code",
   "execution_count": 14,
   "id": "e80f7bdb-f2f2-4880-8067-3eba80f23b3b",
   "metadata": {},
   "outputs": [
    {
     "data": {
      "text/plain": [
       "[1, 2, 3]"
      ]
     },
     "execution_count": 14,
     "metadata": {},
     "output_type": "execute_result"
    }
   ],
   "source": [
    "u"
   ]
  },
  {
   "cell_type": "code",
   "execution_count": 15,
   "id": "1f95e871-fc1c-41a4-9cb6-e37e2c9bc685",
   "metadata": {},
   "outputs": [
    {
     "name": "stdout",
     "output_type": "stream",
     "text": [
      "1 2 3\n"
     ]
    }
   ],
   "source": [
    "print(*u)"
   ]
  },
  {
   "cell_type": "code",
   "execution_count": 16,
   "id": "2706fc3d-83d4-49fc-92c0-5cdf0f972b4e",
   "metadata": {},
   "outputs": [],
   "source": [
    "a,*b,c=[1,2,3,4,5,6,7,8,9,26,15,84]"
   ]
  },
  {
   "cell_type": "code",
   "execution_count": 17,
   "id": "24fc2386-c187-4cae-8f31-de09e9eb01cf",
   "metadata": {},
   "outputs": [
    {
     "data": {
      "text/plain": [
       "1"
      ]
     },
     "execution_count": 17,
     "metadata": {},
     "output_type": "execute_result"
    }
   ],
   "source": [
    "a"
   ]
  },
  {
   "cell_type": "code",
   "execution_count": 18,
   "id": "2fecb3b7-ec10-4532-8542-4371a135e4a7",
   "metadata": {},
   "outputs": [
    {
     "data": {
      "text/plain": [
       "84"
      ]
     },
     "execution_count": 18,
     "metadata": {},
     "output_type": "execute_result"
    }
   ],
   "source": [
    "c"
   ]
  },
  {
   "cell_type": "code",
   "execution_count": 19,
   "id": "e23732ae-f243-4f18-b771-9a79ae48334f",
   "metadata": {},
   "outputs": [
    {
     "data": {
      "text/plain": [
       "[2, 3, 4, 5, 6, 7, 8, 9, 26, 15]"
      ]
     },
     "execution_count": 19,
     "metadata": {},
     "output_type": "execute_result"
    }
   ],
   "source": [
    "b"
   ]
  },
  {
   "cell_type": "code",
   "execution_count": 20,
   "id": "0bf3dcea-b2c3-4e74-9c34-d774c3253124",
   "metadata": {},
   "outputs": [
    {
     "name": "stdout",
     "output_type": "stream",
     "text": [
      "2 3 4 5 6 7 8 9 26 15\n"
     ]
    }
   ],
   "source": [
    "print(*b)"
   ]
  },
  {
   "cell_type": "code",
   "execution_count": 33,
   "id": "3e051c90-c2d8-4312-af89-2ce4b0104c5f",
   "metadata": {},
   "outputs": [
    {
     "data": {
      "text/plain": [
       "[[1, 2, 3], [4, 5, 6]]"
      ]
     },
     "execution_count": 33,
     "metadata": {},
     "output_type": "execute_result"
    }
   ],
   "source": [
    "A=[1,2,3]\n",
    "B=[4,5,6]\n",
    "C=[A,B]\n",
    "C"
   ]
  },
  {
   "cell_type": "code",
   "execution_count": 28,
   "id": "b7b1f13b-03de-4dc3-b706-a754d2cc22d8",
   "metadata": {},
   "outputs": [
    {
     "data": {
      "text/plain": [
       "[1, 2, 3, 4, 5, 6]"
      ]
     },
     "execution_count": 28,
     "metadata": {},
     "output_type": "execute_result"
    }
   ],
   "source": [
    "D=[*A,*B]\n",
    "D"
   ]
  },
  {
   "cell_type": "code",
   "execution_count": 29,
   "id": "fd2f9733-fbf3-4016-9392-f16755d17125",
   "metadata": {},
   "outputs": [
    {
     "name": "stdout",
     "output_type": "stream",
     "text": [
      "1 2 3 4 5 6\n"
     ]
    }
   ],
   "source": [
    "print(*D)"
   ]
  },
  {
   "cell_type": "code",
   "execution_count": 30,
   "id": "15a74b9c-dc5f-469b-8718-33ea4df2b068",
   "metadata": {},
   "outputs": [
    {
     "data": {
      "text/plain": [
       "[1, 2, 3, 4, 5, 6]"
      ]
     },
     "execution_count": 30,
     "metadata": {},
     "output_type": "execute_result"
    }
   ],
   "source": [
    "A+B"
   ]
  },
  {
   "cell_type": "code",
   "execution_count": 34,
   "id": "8ed75f57-f1b0-4bc4-9c3d-0eaa1c419238",
   "metadata": {},
   "outputs": [
    {
     "data": {
      "text/plain": [
       "[1, 2, 3, 4, 5, 6]"
      ]
     },
     "execution_count": 34,
     "metadata": {},
     "output_type": "execute_result"
    }
   ],
   "source": [
    "A.extend(B)\n",
    "A"
   ]
  },
  {
   "cell_type": "code",
   "execution_count": 37,
   "id": "e8be984f-2edd-4b28-9484-b7bb917b654b",
   "metadata": {},
   "outputs": [
    {
     "name": "stdout",
     "output_type": "stream",
     "text": [
      "['r', 'e', 'a', 'l', 'p', 'y', 't', 'h', 'o', 'n']\n"
     ]
    },
    {
     "data": {
      "text/plain": [
       "['r', 'e', 'a', 'l', 'p', 'y', 't', 'h', 'o', 'n']"
      ]
     },
     "execution_count": 37,
     "metadata": {},
     "output_type": "execute_result"
    }
   ],
   "source": [
    "a=[*\"realpython\"]\n",
    "print(a)\n",
    "\n",
    "b=list(\"realpython\")\n",
    "b"
   ]
  },
  {
   "cell_type": "code",
   "execution_count": 42,
   "id": "7ba126ea-fd51-4fd4-a61f-cfc93a6d3d42",
   "metadata": {},
   "outputs": [
    {
     "data": {
      "text/plain": [
       "{1: 'one', 2: 'two', 3: 'three', 4: 'four'}"
      ]
     },
     "execution_count": 42,
     "metadata": {},
     "output_type": "execute_result"
    }
   ],
   "source": [
    "d1={1:\"one\",2:\"two\"}\n",
    "d2={3:\"three\",4:\"four\"}\n",
    "d1.update(d2)\n",
    "d1"
   ]
  },
  {
   "cell_type": "code",
   "execution_count": 47,
   "id": "ca88659a-c5db-45aa-91f1-014b4a5a353d",
   "metadata": {},
   "outputs": [
    {
     "name": "stdout",
     "output_type": "stream",
     "text": [
      "{1: 'one', 2: 'two', 3: 'three', 4: 'four'}\n"
     ]
    }
   ],
   "source": [
    "#UNPACKING DICTIONARY USING **\n",
    "\n",
    "d1={1:\"one\",2:\"two\"}\n",
    "d2={3:\"three\",4:\"four\"}\n",
    "d3={**d1,**d2}\n",
    "print(d3)"
   ]
  },
  {
   "cell_type": "code",
   "execution_count": 48,
   "id": "bad69f1f-0395-42ef-97d1-e64236d8a673",
   "metadata": {},
   "outputs": [],
   "source": [
    "def my_sum(a,b,c,d,e):\n",
    "    return(a+b+c+d+e)"
   ]
  },
  {
   "cell_type": "code",
   "execution_count": 49,
   "id": "862ac23c-e57b-460b-8218-bd1d0900b98e",
   "metadata": {},
   "outputs": [],
   "source": [
    "mylist=[1,2,3,4,5]"
   ]
  },
  {
   "cell_type": "code",
   "execution_count": 51,
   "id": "dffc394f-8c61-48fd-8389-3716d5e6e30c",
   "metadata": {},
   "outputs": [
    {
     "data": {
      "text/plain": [
       "15"
      ]
     },
     "execution_count": 51,
     "metadata": {},
     "output_type": "execute_result"
    }
   ],
   "source": [
    "my_sum(*mylist)"
   ]
  },
  {
   "cell_type": "code",
   "execution_count": 52,
   "id": "14e38f89-78f6-48c0-bc60-ee4c2ce15bf8",
   "metadata": {},
   "outputs": [],
   "source": [
    "def my_sum(*a):\n",
    "    result=0\n",
    "    for i in a:\n",
    "        result += i\n",
    "    return result"
   ]
  },
  {
   "cell_type": "code",
   "execution_count": 54,
   "id": "89d1e350-9951-4391-b05d-70aafa97d9e1",
   "metadata": {},
   "outputs": [
    {
     "data": {
      "text/plain": [
       "45"
      ]
     },
     "execution_count": 54,
     "metadata": {},
     "output_type": "execute_result"
    }
   ],
   "source": [
    "list1=[1,2,3]\n",
    "list2=[4,5]\n",
    "list3=[6,7,8,9]\n",
    "\n",
    "my_sum(*list1,*list2,*list3)"
   ]
  },
  {
   "cell_type": "code",
   "execution_count": null,
   "id": "b3fcdf92-9159-4c88-ace7-4bbf36ee500e",
   "metadata": {},
   "outputs": [],
   "source": []
  }
 ],
 "metadata": {
  "kernelspec": {
   "display_name": "Python 3 (ipykernel)",
   "language": "python",
   "name": "python3"
  },
  "language_info": {
   "codemirror_mode": {
    "name": "ipython",
    "version": 3
   },
   "file_extension": ".py",
   "mimetype": "text/x-python",
   "name": "python",
   "nbconvert_exporter": "python",
   "pygments_lexer": "ipython3",
   "version": "3.11.7"
  }
 },
 "nbformat": 4,
 "nbformat_minor": 5
}
