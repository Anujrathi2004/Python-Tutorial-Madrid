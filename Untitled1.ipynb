{
 "cells": [
  {
   "cell_type": "code",
   "execution_count": 1,
   "id": "917457ec-b6b5-40c6-9d78-2797e8948c8d",
   "metadata": {},
   "outputs": [
    {
     "name": "stdout",
     "output_type": "stream",
     "text": [
      "Anuj Rathi\n",
      "Anuj Rathi\n",
      "Anuj Rathi\n",
      "Anuj Rathi\n",
      "Anuj Rathi\n",
      "Anuj Rathi\n",
      "Anuj Rathi\n",
      "Anuj Rathi\n",
      "Anuj Rathi\n"
     ]
    }
   ],
   "source": [
    "#print your name 10 times\n",
    "\n",
    "i=1\n",
    "while i<10:\n",
    "    print(\"Anuj Rathi\")\n",
    "    i=i+1"
   ]
  },
  {
   "cell_type": "code",
   "execution_count": 2,
   "id": "64729680-4a74-4fea-b545-b4a23f7be518",
   "metadata": {},
   "outputs": [
    {
     "name": "stdout",
     "output_type": "stream",
     "text": [
      " *  *  *  *  * \n",
      " *  *  *  *  * \n",
      " *  *  *  *  * \n",
      " *  *  *  *  * \n",
      " *  *  *  *  * \n"
     ]
    }
   ],
   "source": [
    "#NESTED FOR LOOP\n",
    "\n",
    "for i in range(5):\n",
    "    for j in range(5):\n",
    "        print(end=\" * \")\n",
    "    print()"
   ]
  },
  {
   "cell_type": "code",
   "execution_count": 3,
   "id": "42fc11e7-8da4-4445-8f8a-cc46a5ca3322",
   "metadata": {},
   "outputs": [
    {
     "name": "stdout",
     "output_type": "stream",
     "text": [
      " * \n",
      " *  * \n",
      " *  *  * \n",
      " *  *  *  * \n",
      " *  *  *  *  * \n"
     ]
    }
   ],
   "source": [
    "#NESTED FOR LOOP\n",
    "\n",
    "for i in range(5):\n",
    "    for j in range(i+1):\n",
    "        print(end=\" * \")\n",
    "    print()"
   ]
  },
  {
   "cell_type": "code",
   "execution_count": 4,
   "id": "539e44a8-2dd6-4c20-8928-50b642d6a419",
   "metadata": {},
   "outputs": [
    {
     "name": "stdout",
     "output_type": "stream",
     "text": [
      "1 \n",
      "2 3 \n",
      "4 5 6 \n",
      "7 8 9 10 \n",
      "11 12 13 14 15 \n"
     ]
    }
   ],
   "source": [
    "#NESTED FOR LOOP\n",
    "\n",
    "a=1\n",
    "for i in range(5):\n",
    "    for i in range(i+1):\n",
    "        print(a,end=\" \")\n",
    "        a=a+1\n",
    "    print()"
   ]
  },
  {
   "cell_type": "code",
   "execution_count": 5,
   "id": "0723ec41-e9ea-4117-97c2-3161f95437c1",
   "metadata": {},
   "outputs": [
    {
     "name": "stdin",
     "output_type": "stream",
     "text": [
      "Enter the value of a:  45\n",
      "Enter the value of b:  78\n",
      "Enter the value of c:  28\n"
     ]
    },
    {
     "name": "stdout",
     "output_type": "stream",
     "text": [
      "B is greatest\n"
     ]
    }
   ],
   "source": [
    "#NESTED IF TO FIND THE GREATEST NUMBER IN THE GIVEN NUMBERS\n",
    "\n",
    "a=int(input(\"Enter the value of a: \"))\n",
    "b=int(input(\"Enter the value of b: \"))\n",
    "c=int(input(\"Enter the value of c: \"))\n",
    "\n",
    "if a>b:\n",
    "    if a>c:\n",
    "        print(\"A is greatest\")\n",
    "    else:\n",
    "        print(\"C is greatest\")\n",
    "else:\n",
    "    if b>c:\n",
    "        print(\"B is greatest\")\n",
    "    else:\n",
    "        print(\"C is greatest\")\n",
    "    \n"
   ]
  },
  {
   "cell_type": "code",
   "execution_count": 8,
   "id": "3c359110-50b5-4286-9390-4d14873a28e0",
   "metadata": {},
   "outputs": [
    {
     "name": "stdin",
     "output_type": "stream",
     "text": [
      "Enter a number  465815364186486483\n"
     ]
    },
    {
     "name": "stdout",
     "output_type": "stream",
     "text": [
      "count of digit is  18\n"
     ]
    }
   ],
   "source": [
    "#COUNT OF DIGITS OF A NUMBER\n",
    "\n",
    "n=int(input(\"Enter a number \"))\n",
    "co=0\n",
    "while n>0:\n",
    "    rem=n%10\n",
    "    co=co+1\n",
    "    n=n//10\n",
    "print(\"count of digit is \",co)"
   ]
  },
  {
   "cell_type": "code",
   "execution_count": null,
   "id": "7eca95a1-c9a0-422c-8339-c3786a4617a8",
   "metadata": {},
   "outputs": [],
   "source": []
  }
 ],
 "metadata": {
  "kernelspec": {
   "display_name": "Python 3 (ipykernel)",
   "language": "python",
   "name": "python3"
  },
  "language_info": {
   "codemirror_mode": {
    "name": "ipython",
    "version": 3
   },
   "file_extension": ".py",
   "mimetype": "text/x-python",
   "name": "python",
   "nbconvert_exporter": "python",
   "pygments_lexer": "ipython3",
   "version": "3.11.7"
  }
 },
 "nbformat": 4,
 "nbformat_minor": 5
}
