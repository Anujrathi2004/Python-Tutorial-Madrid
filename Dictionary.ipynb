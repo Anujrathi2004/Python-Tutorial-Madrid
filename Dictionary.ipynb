{
 "cells": [
  {
   "cell_type": "code",
   "execution_count": 1,
   "id": "b23d600a-8637-4968-8922-d8429779e6a8",
   "metadata": {},
   "outputs": [
    {
     "name": "stdout",
     "output_type": "stream",
     "text": [
      "{1: 'Two', 2: 'Two', 3: 'Three'}\n"
     ]
    }
   ],
   "source": [
    "#DICTIONARY\n",
    "\n",
    "numNames={1:\"One\",2:\"Two\",3:\"Three\",1:\"Two\"}\n",
    "print(numNames)"
   ]
  },
  {
   "cell_type": "code",
   "execution_count": 2,
   "id": "ae295c15-6934-4e13-91de-49b79b2f7b88",
   "metadata": {},
   "outputs": [
    {
     "name": "stdout",
     "output_type": "stream",
     "text": [
      "{'I': 'one', 'II': 'two', 'III': 'three'}\n"
     ]
    }
   ],
   "source": [
    "#MAKING DICTIONARY USING dict()\n",
    "\n",
    "numdict=dict(I=\"one\",II=\"two\",III=\"three\")\n",
    "print(numdict)"
   ]
  },
  {
   "cell_type": "code",
   "execution_count": 33,
   "id": "48be0ce9-4299-4e9a-a6fb-436aeb22237f",
   "metadata": {},
   "outputs": [
    {
     "name": "stdout",
     "output_type": "stream",
     "text": [
      "{'I': 'one', 'II': 'two', 'III': 'three'}\n"
     ]
    }
   ],
   "source": [
    "#DICTIONARY IN TUPLE FORMAT\n",
    "\n",
    "numdict=dict((('I','one'),('II','two'),('III','three')))\n",
    "print(numdict)"
   ]
  },
  {
   "cell_type": "code",
   "execution_count": 4,
   "id": "53eaa9e6-217d-4888-a130-123b09f026ba",
   "metadata": {},
   "outputs": [
    {
     "name": "stdout",
     "output_type": "stream",
     "text": [
      "One Two Three\n"
     ]
    }
   ],
   "source": [
    "#ACCESSING THE DICTIONARY\n",
    "\n",
    "d={1:\"One\",2:\"Two\",3:\"Three\"}\n",
    "print(d[1],d[2],d[3])"
   ]
  },
  {
   "cell_type": "code",
   "execution_count": 12,
   "id": "0cebbd06-510b-44cf-a361-f328dbb06b32",
   "metadata": {},
   "outputs": [
    {
     "name": "stdout",
     "output_type": "stream",
     "text": [
      "Washington DC New Delhi\n"
     ]
    }
   ],
   "source": [
    "capitals={\"USA\":\"Washington DC\", \"France\":\"Paris\",\"India\":\"New Delhi\"}\n",
    "print(capitals[\"USA\"],capitals[\"India\"])"
   ]
  },
  {
   "cell_type": "code",
   "execution_count": 13,
   "id": "155531e3-6e6b-44d9-a42c-2f6b60559b13",
   "metadata": {},
   "outputs": [
    {
     "name": "stdout",
     "output_type": "stream",
     "text": [
      "one two three\n"
     ]
    }
   ],
   "source": [
    "#USING get() IN DICTIONARY\n",
    "\n",
    "n={1:\"one\",2:\"two\",3:\"three\"}\n",
    "print(n.get(1),n.get(2),n.get(3))"
   ]
  },
  {
   "cell_type": "code",
   "execution_count": 14,
   "id": "25cc0b0b-d75c-4b75-8c20-07bd54388b9b",
   "metadata": {},
   "outputs": [
    {
     "name": "stdout",
     "output_type": "stream",
     "text": [
      "None two three\n"
     ]
    }
   ],
   "source": [
    "#USING get() IN DICTIONARY\n",
    "\n",
    "n={1:\"one\",2:\"two\",3:\"three\"}\n",
    "print(n.get(4),n.get(2),n.get(3))"
   ]
  },
  {
   "cell_type": "code",
   "execution_count": 21,
   "id": "49a98106-e4ae-4378-851e-7efa6d7ec518",
   "metadata": {},
   "outputs": [
    {
     "name": "stdout",
     "output_type": "stream",
     "text": [
      "{'name': 'Anuj', 'age': 20, 'city': 'New Delhi'}\n",
      "dict_values(['Anuj', 20, 'New Delhi'])\n",
      "dict_keys(['name', 'age', 'city'])\n",
      "dict_items([('name', 'Anuj'), ('age', 20), ('city', 'New Delhi')])\n"
     ]
    }
   ],
   "source": [
    "#TYPES OF ACCESSING DICTIONARY\n",
    "\n",
    "d={\"name\":\"Anuj\",\"age\":20,\"city\":\"New Delhi\"}\n",
    "print(d)\n",
    "print(d.values())\n",
    "print(d.keys())\n",
    "print(d.items())"
   ]
  },
  {
   "cell_type": "code",
   "execution_count": 27,
   "id": "419ca034-d99a-4567-bea1-91db6f3497a7",
   "metadata": {},
   "outputs": [
    {
     "name": "stdout",
     "output_type": "stream",
     "text": [
      "name\n",
      "age\n",
      "city\n"
     ]
    }
   ],
   "source": [
    "d={\"name\":\"Anuj\",\"age\":20,\"city\":\"New Delhi\"}\n",
    "for i in d:\n",
    "    print(i)"
   ]
  },
  {
   "cell_type": "code",
   "execution_count": 28,
   "id": "190d4a34-44f1-4f63-b1e7-032c428ddcc8",
   "metadata": {},
   "outputs": [
    {
     "name": "stdout",
     "output_type": "stream",
     "text": [
      "name --> Anuj\n",
      "age --> 20\n",
      "city --> New Delhi\n"
     ]
    }
   ],
   "source": [
    "d={\"name\":\"Anuj\",\"age\":20,\"city\":\"New Delhi\"}\n",
    "for i,j in d.items():\n",
    "    print(i,\"-->\",j)"
   ]
  },
  {
   "cell_type": "code",
   "execution_count": 29,
   "id": "1b6322c5-e70e-4766-b7ee-82858f8a0990",
   "metadata": {},
   "outputs": [
    {
     "name": "stdout",
     "output_type": "stream",
     "text": [
      "Anuj\n",
      "20\n",
      "New Delhi\n"
     ]
    }
   ],
   "source": [
    "d={\"name\":\"Anuj\",\"age\":20,\"city\":\"New Delhi\"}\n",
    "for i in d.values():\n",
    "    print(i)"
   ]
  },
  {
   "cell_type": "code",
   "execution_count": 30,
   "id": "1c1f8435-8288-402a-bd9f-3d1b870fa5fc",
   "metadata": {},
   "outputs": [
    {
     "name": "stdout",
     "output_type": "stream",
     "text": [
      "{'India': 'Dhoni', 'England': 'Root', 'Australia': 'Smith'}\n",
      "{'India': 'Virat', 'England': 'Root', 'Australia': 'Paine'}\n"
     ]
    }
   ],
   "source": [
    "#UPDATE THE VALUE OF KEYS\n",
    "\n",
    "captains={\"India\":\"Dhoni\",\"England\":\"Root\",\"Australia\":\"Smith\"}\n",
    "print(captains)\n",
    "\n",
    "captains['India']='Virat'\n",
    "captains['Australia']='Paine'\n",
    "print(captains)"
   ]
  },
  {
   "cell_type": "code",
   "execution_count": 31,
   "id": "e59e8cd1-dc12-4107-aabd-2299df908d24",
   "metadata": {},
   "outputs": [
    {
     "name": "stdout",
     "output_type": "stream",
     "text": [
      "{'India': 'Dhoni', 'England': 'Root', 'Australia': 'Smith'}\n",
      "{'India': 'Dhoni', 'England': 'Root', 'Australia': 'Smith', 'South Africa': 'Plessis'}\n"
     ]
    }
   ],
   "source": [
    "#ASSIGNING NEW VALUES TO DICTIONARY\n",
    "\n",
    "captains={\"India\":\"Dhoni\",\"England\":\"Root\",\"Australia\":\"Smith\"}\n",
    "print(captains)\n",
    "captains['South Africa']='Plessis'\n",
    "print(captains)"
   ]
  },
  {
   "cell_type": "code",
   "execution_count": 35,
   "id": "4ff827ea-c58b-43af-80ce-862ecacf4107",
   "metadata": {},
   "outputs": [
    {
     "name": "stdout",
     "output_type": "stream",
     "text": [
      "{'India': 'Dhoni', 'England': 'Root', 'Australia': 'Smith'}\n",
      "{'India': 'Dhoni', 'England': 'Root'}\n"
     ]
    }
   ],
   "source": [
    "#DELETING VALUES IN DICTIONARY USING del\n",
    "\n",
    "captains={\"India\":\"Dhoni\",\"England\":\"Root\",\"Australia\":\"Smith\"}\n",
    "print(captains)\n",
    "\n",
    "del captains['Australia']\n",
    "print(captains)"
   ]
  },
  {
   "cell_type": "code",
   "execution_count": 37,
   "id": "d10fa9a2-512c-430f-9b05-58618d419fbf",
   "metadata": {},
   "outputs": [
    {
     "name": "stdout",
     "output_type": "stream",
     "text": [
      "{'India': 'Dhoni', 'England': 'Root', 'Australia': 'Smith'}\n",
      "{'India': 'Dhoni', 'England': 'Root'}\n",
      "{'India': 'Dhoni'}\n",
      "{}\n"
     ]
    }
   ],
   "source": [
    "#DELETING VALUES IN DICTIONARY USING popitem()\n",
    "\n",
    "captains={\"India\":\"Dhoni\",\"England\":\"Root\",\"Australia\":\"Smith\"}\n",
    "print(captains)\n",
    "captains.popitem()\n",
    "print(captains)\n",
    "captains.popitem()\n",
    "print(captains)\n",
    "captains.popitem()\n",
    "print(captains)"
   ]
  },
  {
   "cell_type": "code",
   "execution_count": 1,
   "id": "c4d0ed8e-3c3e-433b-ad18-769f15ed1f38",
   "metadata": {},
   "outputs": [
    {
     "name": "stdout",
     "output_type": "stream",
     "text": [
      "{1: {'name': 'Steve', 'age': 25, 'marks': 60}, 2: {'name': 'Anil', 'age': 23, 'marks': 75}, 3: {'name': 'Asha', 'age': 20, 'marks': 70}}\n"
     ]
    }
   ],
   "source": [
    "#NESTED DICTIONARY\n",
    "\n",
    "d1={\"name\":\"Steve\",\"age\":25,\"marks\":60}\n",
    "d2={\"name\":\"Anil\",\"age\":23,\"marks\":75}\n",
    "d3={\"name\":\"Asha\",\"age\":20,\"marks\":70}\n",
    "\n",
    "students={1:d1,2:d2,3:d3}\n",
    "print(students)"
   ]
  },
  {
   "cell_type": "code",
   "execution_count": 4,
   "id": "ce271896-12c3-4579-8a4b-128c3e5a1aa4",
   "metadata": {},
   "outputs": [
    {
     "name": "stdout",
     "output_type": "stream",
     "text": [
      "{'name': 'Steve', 'age': 25, 'marks': 60}\n",
      "{'name': 'Anil', 'age': 23, 'marks': 75}\n",
      "{'name': 'Asha', 'age': 20, 'marks': 70}\n"
     ]
    }
   ],
   "source": [
    "print(students[1])\n",
    "print(students[2])\n",
    "print(students[3])"
   ]
  },
  {
   "cell_type": "code",
   "execution_count": 6,
   "id": "1bbc9026-c91f-4e62-a312-32d7ad4e0cd5",
   "metadata": {},
   "outputs": [
    {
     "name": "stdout",
     "output_type": "stream",
     "text": [
      "Dictionary:  {'I': 1, 'II': 2, 'III': 3, 'IV': 4, 'V': 5}\n",
      "Dictionary after calling clear() method:  {}\n"
     ]
    }
   ],
   "source": [
    "#USING clear() IN DICTIONARY\n",
    "\n",
    "romanNums={'I':1,'II':2,'III':3,'IV':4,'V':5}\n",
    "print(\"Dictionary: \",romanNums)\n",
    "romanNums.clear()\n",
    "print(\"Dictionary after calling clear() method: \",romanNums)"
   ]
  },
  {
   "cell_type": "code",
   "execution_count": 7,
   "id": "948b936f-2e7a-4cc1-a53e-10b3661dca2f",
   "metadata": {},
   "outputs": [
    {
     "name": "stdout",
     "output_type": "stream",
     "text": [
      "Original dictionary:  {'I': 1, 'II': 2, 'III': 3, 'IV': 4, 'V': 5}\n",
      "Copied dictionary:  {'I': 1, 'II': 2, 'III': 3, 'IV': 4, 'V': 5}\n"
     ]
    }
   ],
   "source": [
    "#USING copy() IN DICTIONARY\n",
    "\n",
    "romanNums={'I':1,'II':2,'III':3,'IV':4,'V':5}\n",
    "newRomanNums=romanNums.copy()\n",
    "print(\"Original dictionary: \",romanNums)\n",
    "print(\"Copied dictionary: \",newRomanNums)"
   ]
  },
  {
   "cell_type": "code",
   "execution_count": 8,
   "id": "1385c8bc-606f-4a56-8ac5-41e44d512a2b",
   "metadata": {},
   "outputs": [
    {
     "name": "stdout",
     "output_type": "stream",
     "text": [
      "{'Mumbai': 'city', 'Bangalore': 'city', 'Chicago': 'city', 'New York': 'city'}\n"
     ]
    }
   ],
   "source": [
    "#USING fromkeys()  IN DICTIONARY\n",
    "\n",
    "keys={'Mumbai','Bangalore','Chicago','New York'}\n",
    "value='city'\n",
    "dictionary=dict.fromkeys(keys,value)\n",
    "print(dictionary)"
   ]
  },
  {
   "cell_type": "code",
   "execution_count": 10,
   "id": "47dd1968-b811-4845-962f-439d901f0b60",
   "metadata": {},
   "outputs": [
    {
     "name": "stdout",
     "output_type": "stream",
     "text": [
      "{'Mumbai': None, 'Bangalore': None, 'Chicago': None, 'New York': None}\n"
     ]
    }
   ],
   "source": [
    "#USING fromkeys()  IN DICTIONARY\n",
    "\n",
    "keys={'Mumbai','Bangalore','Chicago','New York'}\n",
    "value='city'\n",
    "dictionary=dict.fromkeys(keys)\n",
    "print(dictionary)"
   ]
  },
  {
   "cell_type": "code",
   "execution_count": 11,
   "id": "95a4947e-5de7-4b69-b59b-4d857c813c5a",
   "metadata": {},
   "outputs": [
    {
     "data": {
      "text/plain": [
       "{'H': 'char', 'e': 'char', 'l': 'char', 'o': 'char'}"
      ]
     },
     "execution_count": 11,
     "metadata": {},
     "output_type": "execute_result"
    }
   ],
   "source": [
    "chDict=dict.fromkeys('Hello','char')\n",
    "chDict"
   ]
  },
  {
   "cell_type": "code",
   "execution_count": 12,
   "id": "bddefc00-f40a-469f-bb15-e716b25b195b",
   "metadata": {},
   "outputs": [
    {
     "data": {
      "text/plain": [
       "dict_items([('I', 1), ('II', 2), ('III', 3), ('IV', 4)])"
      ]
     },
     "execution_count": 12,
     "metadata": {},
     "output_type": "execute_result"
    }
   ],
   "source": [
    "romanNums={'I':1,'II':2,'III':3,'IV':4}\n",
    "dictview=romanNums.items()\n",
    "dictview"
   ]
  },
  {
   "cell_type": "code",
   "execution_count": 13,
   "id": "5007ed80-5613-469f-8158-0340cf6103d4",
   "metadata": {},
   "outputs": [
    {
     "data": {
      "text/plain": [
       "dict_keys(['I', 'II', 'III', 'IV'])"
      ]
     },
     "execution_count": 13,
     "metadata": {},
     "output_type": "execute_result"
    }
   ],
   "source": [
    "romanNums={'I':1,'II':2,'III':3,'IV':4}\n",
    "dictview=romanNums.keys()\n",
    "dictview"
   ]
  },
  {
   "cell_type": "code",
   "execution_count": 14,
   "id": "81dd33d5-a318-477b-ae34-894cdf1dc2a1",
   "metadata": {},
   "outputs": [
    {
     "data": {
      "text/plain": [
       "dict_values([1, 2, 3, 4])"
      ]
     },
     "execution_count": 14,
     "metadata": {},
     "output_type": "execute_result"
    }
   ],
   "source": [
    "romanNums={'I':1,'II':2,'III':3,'IV':4}\n",
    "dictview=romanNums.values()\n",
    "dictview"
   ]
  },
  {
   "cell_type": "code",
   "execution_count": 22,
   "id": "6f92b4ed-227a-41eb-940e-0b3b4ab02d88",
   "metadata": {},
   "outputs": [
    {
     "name": "stdout",
     "output_type": "stream",
     "text": [
      "The popped value is:  4\n",
      "Updated Dictionary:  {'I': 1, 'II': 2, 'III': 3}\n",
      "The popped value is:  3\n",
      "Updated Dictionary:  {'I': 1, 'II': 2}\n",
      "The popped value is:  WRONG INPUT\n",
      "Updated Dictionary:  {'I': 1, 'II': 2}\n"
     ]
    }
   ],
   "source": [
    "#USING POP IN DICTIONARY\n",
    "\n",
    "romanNums={'I':1,'II':2,'III':3,'IV':4}\n",
    "deletedValue=romanNums.pop('IV')\n",
    "print(\"The popped value is: \",deletedValue)\n",
    "print(\"Updated Dictionary: \",romanNums)\n",
    "deletedValue=romanNums.pop('III')\n",
    "print(\"The popped value is: \",deletedValue)\n",
    "print(\"Updated Dictionary: \",romanNums)\n",
    "deletedValue=romanNums.pop('VI','WRONG INPUT')\n",
    "print(\"The popped value is: \",deletedValue)\n",
    "print(\"Updated Dictionary: \",romanNums)"
   ]
  },
  {
   "cell_type": "code",
   "execution_count": 24,
   "id": "55fb923c-6d86-4214-bbcd-d958cfdce371",
   "metadata": {},
   "outputs": [
    {
     "name": "stdout",
     "output_type": "stream",
     "text": [
      "Dictionary:  {'I': 1, 'III': 3, 'V': 5}\n",
      "Updated Dictionary:  {'I': 1, 'III': 3, 'V': 5, 'II': 2, 'IV': 4}\n"
     ]
    }
   ],
   "source": [
    "#USING update() METHOD IN DICTIONARY\n",
    "\n",
    "romanNums={'I':1,'III':3,'V':5}\n",
    "print(\"Dictionary: \",romanNums)\n",
    "\n",
    "evenRomanNums={'II':2,'IV':4}\n",
    "romanNums.update(evenRomanNums)\n",
    "print(\"Updated Dictionary: \",romanNums)"
   ]
  },
  {
   "cell_type": "code",
   "execution_count": null,
   "id": "d53eefc1-6732-4473-98e8-201a61492b26",
   "metadata": {},
   "outputs": [],
   "source": []
  }
 ],
 "metadata": {
  "kernelspec": {
   "display_name": "Python 3 (ipykernel)",
   "language": "python",
   "name": "python3"
  },
  "language_info": {
   "codemirror_mode": {
    "name": "ipython",
    "version": 3
   },
   "file_extension": ".py",
   "mimetype": "text/x-python",
   "name": "python",
   "nbconvert_exporter": "python",
   "pygments_lexer": "ipython3",
   "version": "3.11.7"
  }
 },
 "nbformat": 4,
 "nbformat_minor": 5
}
