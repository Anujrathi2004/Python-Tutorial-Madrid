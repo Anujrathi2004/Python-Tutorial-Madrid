{
 "cells": [
  {
   "cell_type": "markdown",
   "id": "c45ef595-c5d4-4a61-85ed-409fcc4c0668",
   "metadata": {},
   "source": []
  },
  {
   "cell_type": "code",
   "execution_count": 1,
   "id": "0d8fa1fe-62f4-4f56-bfe5-58f6a5ea9113",
   "metadata": {},
   "outputs": [
    {
     "name": "stdout",
     "output_type": "stream",
     "text": [
      "This is a string in python\n"
     ]
    }
   ],
   "source": [
    "#STRING\n",
    "\n",
    "str='This is a string in python'\n",
    "print(str)"
   ]
  },
  {
   "cell_type": "code",
   "execution_count": 2,
   "id": "53eee342-7644-4eb7-975d-0ead43b8467a",
   "metadata": {},
   "outputs": [
    {
     "name": "stdout",
     "output_type": "stream",
     "text": [
      "This is a string in python\n"
     ]
    }
   ],
   "source": [
    "str=\"This is a string in python\"\n",
    "print(str)"
   ]
  },
  {
   "cell_type": "code",
   "execution_count": 3,
   "id": "28c016cb-01d2-4e00-a147-2403ccd5886c",
   "metadata": {},
   "outputs": [
    {
     "name": "stdout",
     "output_type": "stream",
     "text": [
      "This is\n",
      "the first\n",
      "multi-lined string.\n"
     ]
    }
   ],
   "source": [
    "str='''This is\n",
    "the first\n",
    "multi-lined string.'''\n",
    "print(str)"
   ]
  },
  {
   "cell_type": "code",
   "execution_count": 4,
   "id": "a76c742f-b1de-4ee4-a60f-3735f1770a3b",
   "metadata": {},
   "outputs": [
    {
     "name": "stdout",
     "output_type": "stream",
     "text": [
      "This is\n",
      "the second\n",
      "multi-lined string\n"
     ]
    }
   ],
   "source": [
    "str=\"\"\"This is\n",
    "the second\n",
    "multi-lined string\"\"\"\n",
    "print(str)"
   ]
  },
  {
   "cell_type": "code",
   "execution_count": 6,
   "id": "5dfb80bc-ad56-4154-8fbe-88f1b0aaf754",
   "metadata": {},
   "outputs": [
    {
     "name": "stdout",
     "output_type": "stream",
     "text": [
      "5\n"
     ]
    }
   ],
   "source": [
    "#GETTING LENGTH USING LEN\n",
    "\n",
    "greet='Hello'\n",
    "n=len(greet)\n",
    "print(n)"
   ]
  },
  {
   "cell_type": "code",
   "execution_count": 9,
   "id": "df20d2d3-f345-4746-85c3-97488799cbbd",
   "metadata": {},
   "outputs": [
    {
     "name": "stdout",
     "output_type": "stream",
     "text": [
      "m\n",
      "a\n",
      "l\n",
      "a\n",
      "y\n",
      "a\n",
      "l\n",
      "a\n",
      "m\n"
     ]
    }
   ],
   "source": [
    "lang='malayalam'\n",
    "print(lang[0])\n",
    "print(lang[1])\n",
    "print(lang[2])\n",
    "print(lang[3])\n",
    "print(lang[4])\n",
    "print(lang[5])\n",
    "print(lang[6])\n",
    "print(lang[7])\n",
    "print(lang[8])"
   ]
  },
  {
   "cell_type": "code",
   "execution_count": 10,
   "id": "41594ab7-f055-4410-9f13-66cdfbbfff86",
   "metadata": {},
   "outputs": [
    {
     "name": "stdout",
     "output_type": "stream",
     "text": [
      "m\n",
      "a\n",
      "l\n",
      "a\n",
      "y\n",
      "a\n",
      "l\n",
      "a\n",
      "m\n"
     ]
    }
   ],
   "source": [
    "lang='malayalam'\n",
    "print(lang[-1])\n",
    "print(lang[-2])\n",
    "print(lang[-3])\n",
    "print(lang[-4])\n",
    "print(lang[-5])\n",
    "print(lang[-6])\n",
    "print(lang[-7])\n",
    "print(lang[-8])\n",
    "print(lang[-9])"
   ]
  },
  {
   "cell_type": "code",
   "execution_count": 3,
   "id": "21c54b09-fae1-4655-9916-d172e524f5dd",
   "metadata": {},
   "outputs": [
    {
     "name": "stdout",
     "output_type": "stream",
     "text": [
      "100\n",
      "<class 'str'>\n"
     ]
    }
   ],
   "source": [
    "#USING THE str() FUNCTION TO CONVERT A NUMBER TO A STRING\n",
    "\n",
    "s=str(100)\n",
    "print(s)\n",
    "print(type(s))"
   ]
  },
  {
   "cell_type": "code",
   "execution_count": 4,
   "id": "65d44307-45ef-443b-8917-4e1bd8e7f1ae",
   "metadata": {},
   "outputs": [
    {
     "name": "stdout",
     "output_type": "stream",
     "text": [
      "Original String:  hello world!\n",
      "New String:  Hello world!\n"
     ]
    }
   ],
   "source": [
    "#USING CAPITALIZE\n",
    "\n",
    "a='hello world!'\n",
    "b=a.capitalize()\n",
    "print('Original String: ',a)\n",
    "print('New String: ',b)"
   ]
  },
  {
   "cell_type": "code",
   "execution_count": 5,
   "id": "b2116d65-b4ad-442d-8ad6-44523f43a5f0",
   "metadata": {},
   "outputs": [
    {
     "name": "stdout",
     "output_type": "stream",
     "text": [
      "Original String:  HELLO WORLD!\n",
      "New String:  Hello world!\n"
     ]
    }
   ],
   "source": [
    "a='HELLO WORLD!'\n",
    "b=a.capitalize()\n",
    "print('Original String: ',a)\n",
    "print('New String: ',b)"
   ]
  },
  {
   "cell_type": "code",
   "execution_count": 6,
   "id": "ae2aca74-6cc8-495a-b9e7-e7a18c292ac9",
   "metadata": {},
   "outputs": [
    {
     "name": "stdout",
     "output_type": "stream",
     "text": [
      "Number of occurance of \"Madrid\":  1\n",
      "Number of occurance of \"madrid\":  0\n"
     ]
    }
   ],
   "source": [
    "#USING COUNT IN STRING\n",
    "\n",
    "da='Madrid is a good institute for data science learning'\n",
    "t=da.count('Madrid')\n",
    "print('Number of occurance of \"Madrid\": ',t)\n",
    "to=da.count('madrid')\n",
    "print('Number of occurance of \"madrid\": ',to)"
   ]
  },
  {
   "cell_type": "code",
   "execution_count": 8,
   "id": "7a9c9fb9-1a79-4c97-8f7b-17cb3eeddd7a",
   "metadata": {},
   "outputs": [
    {
     "name": "stdout",
     "output_type": "stream",
     "text": [
      "True\n",
      "True\n",
      "True\n",
      "True\n",
      "False\n"
     ]
    }
   ],
   "source": [
    "#USING 'endswith()' IN STRING\n",
    "\n",
    "mystr='Python is a programming language.'\n",
    "\n",
    "print(mystr.endswith('.'))\n",
    "print(mystr.endswith('age.'))\n",
    "print(mystr.endswith('language.'))\n",
    "print(mystr.endswith('programming language.'))\n",
    "print(mystr.endswith('age'))"
   ]
  },
  {
   "cell_type": "code",
   "execution_count": 10,
   "id": "661e1e05-1cd2-4acc-870f-163d39cceea3",
   "metadata": {},
   "outputs": [
    {
     "name": "stdout",
     "output_type": "stream",
     "text": [
      "Index of 'H':  0\n",
      "Index of 'h':  -1\n",
      "Index of 'e':  1\n",
      "Index of 'World':  6\n"
     ]
    }
   ],
   "source": [
    "#USING find() IN STRING\n",
    "\n",
    "greet='Hello World!'\n",
    "print(\"Index of 'H': \", greet.find('H'))\n",
    "print(\"Index of 'h': \", greet.find('h'))#returns -1 as 'h' not found\n",
    "print(\"Index of 'e': \", greet.find('e'))\n",
    "print(\"Index of 'World': \", greet.find('World'))"
   ]
  },
  {
   "cell_type": "code",
   "execution_count": 13,
   "id": "116dbfc8-1d03-4e11-ac38-ad43243671b4",
   "metadata": {},
   "outputs": [
    {
     "name": "stdout",
     "output_type": "stream",
     "text": [
      "Index of H:  0\n",
      "Index of e:  1\n",
      "Index of l:  2\n",
      "Index of World:  6\n"
     ]
    }
   ],
   "source": [
    "#USING index() in string\n",
    "\n",
    "greet='Hello World1'\n",
    "print('Index of H: ',greet.index('H'))\n",
    "print('Index of e: ',greet.index('e'))\n",
    "print('Index of l: ',greet.index('l'))\n",
    "print('Index of World: ',greet.index('World'))"
   ]
  },
  {
   "cell_type": "code",
   "execution_count": 14,
   "id": "1e2e523d-dd53-4071-b582-ea7ead711071",
   "metadata": {},
   "outputs": [
    {
     "name": "stdout",
     "output_type": "stream",
     "text": [
      "True\n"
     ]
    }
   ],
   "source": [
    "#USING isalnum() IN STRING\n",
    "\n",
    "mystr='Hello123'\n",
    "print(mystr.isalnum())"
   ]
  },
  {
   "cell_type": "code",
   "execution_count": 15,
   "id": "43337db1-6e28-4f3f-841b-bb4d57d0b8d0",
   "metadata": {},
   "outputs": [
    {
     "name": "stdout",
     "output_type": "stream",
     "text": [
      "False\n"
     ]
    }
   ],
   "source": [
    "mystr='Hello@123'\n",
    "print(mystr.isalnum())"
   ]
  },
  {
   "cell_type": "code",
   "execution_count": 16,
   "id": "819742b2-3ea9-4e7e-b0dd-7d9f4e05a296",
   "metadata": {},
   "outputs": [
    {
     "name": "stdout",
     "output_type": "stream",
     "text": [
      "False\n"
     ]
    }
   ],
   "source": [
    "mystr='Hello 123'\n",
    "print(mystr.isalnum())"
   ]
  },
  {
   "cell_type": "code",
   "execution_count": 17,
   "id": "8877677f-96c5-4ec6-9526-62fceaf48fd7",
   "metadata": {},
   "outputs": [
    {
     "name": "stdout",
     "output_type": "stream",
     "text": [
      "True\n"
     ]
    }
   ],
   "source": [
    "#USING isdigit() IN STRING\n",
    "\n",
    "mystr='12345'\n",
    "print(mystr.isdigit())"
   ]
  },
  {
   "cell_type": "code",
   "execution_count": 18,
   "id": "f514d07e-7edc-4f78-ae5d-0fc8cd6e8712",
   "metadata": {},
   "outputs": [
    {
     "name": "stdout",
     "output_type": "stream",
     "text": [
      "False\n"
     ]
    }
   ],
   "source": [
    "mystr='1.2'\n",
    "print(mystr.isdigit())"
   ]
  },
  {
   "cell_type": "code",
   "execution_count": 19,
   "id": "5ceab403-620e-47f2-a31b-2af8c541ed32",
   "metadata": {},
   "outputs": [
    {
     "name": "stdout",
     "output_type": "stream",
     "text": [
      "False\n"
     ]
    }
   ],
   "source": [
    "mystr='python'\n",
    "print(mystr.isdigit())"
   ]
  },
  {
   "cell_type": "code",
   "execution_count": 20,
   "id": "14c21aae-8356-4966-b60e-7b960db362e3",
   "metadata": {},
   "outputs": [
    {
     "name": "stdout",
     "output_type": "stream",
     "text": [
      "False\n"
     ]
    }
   ],
   "source": [
    "mystr='1 2 3'\n",
    "print(mystr.isdigit())"
   ]
  },
  {
   "cell_type": "code",
   "execution_count": 4,
   "id": "abcff275-5d25-476b-b833-6e428452f736",
   "metadata": {},
   "outputs": [
    {
     "name": "stdout",
     "output_type": "stream",
     "text": [
      "True\n",
      "False\n",
      "True\n",
      "False\n"
     ]
    }
   ],
   "source": [
    "#USING islower() IN STRING TO CHECK WEATHER ALL THE ALPHABETS ARE IN LOWER CASE\n",
    "\n",
    "mystr='hello world'\n",
    "print(mystr.islower())\n",
    "mystr='Hello world'\n",
    "print(mystr.islower())\n",
    "mystr='python is #1'\n",
    "print(mystr.islower())\n",
    "mystr='#1'\n",
    "print(mystr.islower())"
   ]
  },
  {
   "cell_type": "code",
   "execution_count": 7,
   "id": "67ffbbda-4d83-4085-889a-fcbe0e60f695",
   "metadata": {},
   "outputs": [
    {
     "name": "stdout",
     "output_type": "stream",
     "text": [
      "True\n",
      "False\n",
      "False\n",
      "False\n",
      "True\n"
     ]
    }
   ],
   "source": [
    "#USING istitle() IN STRING\n",
    "\n",
    "greet='Hello World'\n",
    "print(greet.istitle())\n",
    "\n",
    "greet='Hello WORLD'\n",
    "print(greet.istitle())\n",
    "\n",
    "greet='hello world'\n",
    "print(greet.istitle())\n",
    "\n",
    "greet='HelloWorld'\n",
    "print(greet.istitle())\n",
    "\n",
    "s='Python Is A Programming Language'\n",
    "print(s.istitle())"
   ]
  },
  {
   "cell_type": "code",
   "execution_count": 8,
   "id": "df7212fb-f08f-4252-9a85-48db86ecc7f6",
   "metadata": {},
   "outputs": [
    {
     "name": "stdout",
     "output_type": "stream",
     "text": [
      "True\n",
      "False\n",
      "False\n",
      "True\n"
     ]
    }
   ],
   "source": [
    "#USING isupper() IN STRING\n",
    "\n",
    "mystr='HELLO WOLRD'\n",
    "print(mystr.isupper())\n",
    "\n",
    "mystr='Hello World'\n",
    "print(mystr.isupper())\n",
    "\n",
    "mystr='hello world'\n",
    "print(mystr.isupper())\n",
    "\n",
    "mystr='PYTHON IS #1'\n",
    "print(mystr.isupper())"
   ]
  },
  {
   "cell_type": "code",
   "execution_count": 9,
   "id": "25c2839b-fa35-4cbd-99e4-1af3e1cd4a5a",
   "metadata": {},
   "outputs": [
    {
     "name": "stdout",
     "output_type": "stream",
     "text": [
      "Original String:  HELLO WORLD\n",
      "Lowercased String:  hello world\n"
     ]
    }
   ],
   "source": [
    "#USING lower() IN STRING\n",
    "\n",
    "mystr='HELLO WORLD'\n",
    "mystr_lower=mystr.lower()\n",
    "print('Original String: ',mystr)\n",
    "print('Lowercased String: ',mystr_lower)"
   ]
  },
  {
   "cell_type": "code",
   "execution_count": 11,
   "id": "821f9901-41de-49bb-bc32-4605114b7030",
   "metadata": {},
   "outputs": [
    {
     "name": "stdout",
     "output_type": "stream",
     "text": [
      "12345\n",
      "123abc\n"
     ]
    }
   ],
   "source": [
    "numstr='12345'\n",
    "print(numstr.lower())\n",
    "\n",
    "numstr='123ABC'\n",
    "print(numstr.lower())"
   ]
  },
  {
   "cell_type": "code",
   "execution_count": 16,
   "id": "4d32e6b7-baf3-4586-8550-9fde1384f5f3",
   "metadata": {},
   "outputs": [
    {
     "name": "stdout",
     "output_type": "stream",
     "text": [
      "                  Hello    World                 \n",
      "Hello    World                 \n"
     ]
    }
   ],
   "source": [
    "#USING lstrip() IN STRING\n",
    "\n",
    "mystr='                  Hello    World                 '\n",
    "print(mystr)\n",
    "print(mystr.lstrip())#removes leading spaces"
   ]
  },
  {
   "cell_type": "code",
   "execution_count": 18,
   "id": "431ff175-500f-4c67-ae51-a4bc6b680a74",
   "metadata": {},
   "outputs": [
    {
     "name": "stdout",
     "output_type": "stream",
     "text": [
      "('Hello', ' ', 'World')\n",
      "('How ', 'are', ' you?')\n"
     ]
    }
   ],
   "source": [
    "#USING partition() IN STRING TO SAPARATE THE STRING\n",
    "\n",
    "mystr='Hello World'\n",
    "print(mystr.partition(' '))\n",
    "\n",
    "mystr='How are you?'\n",
    "print(mystr.partition('are'))"
   ]
  },
  {
   "cell_type": "code",
   "execution_count": 20,
   "id": "564f1701-360c-47c4-bcef-c66634e7ba23",
   "metadata": {},
   "outputs": [
    {
     "name": "stdout",
     "output_type": "stream",
     "text": [
      "('', 'Tutorials', 'Teacher is the best website.')\n",
      "('TutorialsTeacher is the best website.', '', '')\n"
     ]
    }
   ],
   "source": [
    "mystr='TutorialsTeacher is the best website.'\n",
    "print(mystr.partition('Tutorials'))\n",
    "print(mystr.partition('tutorials'))"
   ]
  },
  {
   "cell_type": "code",
   "execution_count": 21,
   "id": "bf52ea9d-819e-4274-9088-d52a93e1f823",
   "metadata": {},
   "outputs": [
    {
     "name": "stdout",
     "output_type": "stream",
     "text": [
      "['Hello', 'World']\n"
     ]
    }
   ],
   "source": [
    "#USING split() IN STRING \n",
    "\n",
    "mystr='Hello World'\n",
    "print(mystr.split())"
   ]
  },
  {
   "cell_type": "code",
   "execution_count": 24,
   "id": "d1949e23-fdfa-4f23-a7c7-fa219f1ce446",
   "metadata": {},
   "outputs": [
    {
     "name": "stdout",
     "output_type": "stream",
     "text": [
      "['C', 'Python', 'R', 'Java', 'SQL', 'HAdoop']\n"
     ]
    }
   ],
   "source": [
    "langs='C,Python,R,Java,SQL,HAdoop'\n",
    "print(langs.split(','))"
   ]
  },
  {
   "cell_type": "code",
   "execution_count": 28,
   "id": "5c74c966-84d3-40e7-9508-a4ccf3f8e4af",
   "metadata": {},
   "outputs": [
    {
     "name": "stdout",
     "output_type": "stream",
     "text": [
      "['apples', 'banana', 'mango', 'fig', 'pear']\n"
     ]
    }
   ],
   "source": [
    "fruits= 'apples@banana@mango@fig@pear'\n",
    "print(fruits.split('@'))"
   ]
  },
  {
   "cell_type": "code",
   "execution_count": 25,
   "id": "b3a132bd-005f-4a91-9589-46cdf2a669c6",
   "metadata": {},
   "outputs": [
    {
     "name": "stdout",
     "output_type": "stream",
     "text": [
      "['C', 'Python', 'R', 'Java,SQL,HAdoop']\n",
      "['apples', 'banana', 'mango@fig@pear']\n"
     ]
    }
   ],
   "source": [
    "#Using maxsplit\n",
    "\n",
    "langs='C,Python,R,Java,SQL,HAdoop'\n",
    "print(langs.split(',',3))\n",
    "\n",
    "fruits= 'apples@banana@mango@fig@pear'\n",
    "print(fruits.split('@',2))"
   ]
  },
  {
   "cell_type": "code",
   "execution_count": 26,
   "id": "2e679407-4bd6-4475-9971-90e442162fe7",
   "metadata": {},
   "outputs": [
    {
     "data": {
      "text/plain": [
       "'HELLO WORLD'"
      ]
     },
     "execution_count": 26,
     "metadata": {},
     "output_type": "execute_result"
    }
   ],
   "source": [
    "mystr='Hello World'\n",
    "mystr.upper()"
   ]
  },
  {
   "cell_type": "code",
   "execution_count": 1,
   "id": "eb9cfa78-0e57-4ef5-9b46-d9c3decfa4cd",
   "metadata": {},
   "outputs": [
    {
     "name": "stdout",
     "output_type": "stream",
     "text": [
      "Zee\n"
     ]
    }
   ],
   "source": [
    "l=[\"Amit\",\"Anita\",\"Zee\",\"Longest Word\"]\n",
    "print(max(l))"
   ]
  },
  {
   "cell_type": "code",
   "execution_count": 3,
   "id": "d8eaea9e-03a2-4ab9-b1ca-81a699c39f4c",
   "metadata": {},
   "outputs": [
    {
     "name": "stdout",
     "output_type": "stream",
     "text": [
      "zee\n"
     ]
    }
   ],
   "source": [
    "l=[\"Amit\",\"Anita\",\"zee\",\"Zee\",\"Longest Word\"]\n",
    "print(max(l))"
   ]
  },
  {
   "cell_type": "code",
   "execution_count": null,
   "id": "cfbdcfd0-3a28-4999-ae27-f602d8ef4ee8",
   "metadata": {},
   "outputs": [],
   "source": []
  }
 ],
 "metadata": {
  "kernelspec": {
   "display_name": "Python 3 (ipykernel)",
   "language": "python",
   "name": "python3"
  },
  "language_info": {
   "codemirror_mode": {
    "name": "ipython",
    "version": 3
   },
   "file_extension": ".py",
   "mimetype": "text/x-python",
   "name": "python",
   "nbconvert_exporter": "python",
   "pygments_lexer": "ipython3",
   "version": "3.11.7"
  }
 },
 "nbformat": 4,
 "nbformat_minor": 5
}
