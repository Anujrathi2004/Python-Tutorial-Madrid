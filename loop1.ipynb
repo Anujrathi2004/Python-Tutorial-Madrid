{
 "cells": [
  {
   "cell_type": "code",
   "execution_count": 1,
   "id": "b201c13f-e8f4-4b5a-a6e7-06e3092a1d2c",
   "metadata": {},
   "outputs": [
    {
     "name": "stdin",
     "output_type": "stream",
     "text": [
      "Enter the number 45\n"
     ]
    },
    {
     "name": "stdout",
     "output_type": "stream",
     "text": [
      "1 3 5 9 15 45 "
     ]
    }
   ],
   "source": [
    "# factor of a number\n",
    "\n",
    "n=int(input(\"Enter the number\"))\n",
    "i=1\n",
    "while i<=n:\n",
    "  if n%i==0:\n",
    "    print(i,end=\" \")\n",
    "  i=i+1"
   ]
  },
  {
   "cell_type": "code",
   "execution_count": 2,
   "id": "7d434ec2-0f3d-453d-8f43-4543ff37c277",
   "metadata": {},
   "outputs": [
    {
     "name": "stdin",
     "output_type": "stream",
     "text": [
      "Enter the number 456\n"
     ]
    },
    {
     "name": "stdout",
     "output_type": "stream",
     "text": [
      "Not Prime Number\n"
     ]
    }
   ],
   "source": [
    "# prime number\n",
    "\n",
    "n=int(input(\"Enter the number\"))\n",
    "i=1\n",
    "co=0\n",
    "while i<=n:\n",
    "  if n%i==0:\n",
    "    co=co+1\n",
    "  i=i+1\n",
    "if co==2:\n",
    "    print(\"Prime Number\")\n",
    "else:\n",
    "    print(\"Not Prime Number\")"
   ]
  },
  {
   "cell_type": "code",
   "execution_count": 3,
   "id": "3e1f1565-3252-426e-ba91-2e6c9ba9cec0",
   "metadata": {},
   "outputs": [
    {
     "name": "stdin",
     "output_type": "stream",
     "text": [
      "Enter the number 1\n"
     ]
    },
    {
     "name": "stdout",
     "output_type": "stream",
     "text": [
      "The Factorial is  1\n"
     ]
    }
   ],
   "source": [
    "n=int(input(\"Enter the number\"))\n",
    "f=1\n",
    "while n>0:\n",
    "    f=f*n\n",
    "    n=n-1\n",
    "print(\"The Factorial is \",f)"
   ]
  },
  {
   "cell_type": "code",
   "execution_count": 4,
   "id": "1f4ae6e2-6618-4a7c-86e9-7de89c3cc737",
   "metadata": {},
   "outputs": [
    {
     "name": "stdin",
     "output_type": "stream",
     "text": [
      "Enter a number carring more than 1 digit 578\n"
     ]
    },
    {
     "name": "stdout",
     "output_type": "stream",
     "text": [
      "The sum of digits is  20\n"
     ]
    }
   ],
   "source": [
    "#Sum of all digits of a number\n",
    "\n",
    "n=int(input(\"Enter a number carring more than 1 digit\"))\n",
    "sum=0\n",
    "while n>0:\n",
    "    rem=n%10\n",
    "    sum=sum+rem\n",
    "    n=n//10\n",
    "print(\"The sum of digits is \", sum)"
   ]
  },
  {
   "cell_type": "code",
   "execution_count": 5,
   "id": "a153b904-cf9a-4f1a-acbb-019e65fcf8f8",
   "metadata": {},
   "outputs": [
    {
     "name": "stdin",
     "output_type": "stream",
     "text": [
      "Enter a number carring more than 1 digit 469\n"
     ]
    },
    {
     "name": "stdout",
     "output_type": "stream",
     "text": [
      "The reverse is  964\n"
     ]
    }
   ],
   "source": [
    "#Reverse of a number\n",
    "\n",
    "n=int(input(\"Enter a number carring more than 1 digit\"))\n",
    "rev=0\n",
    "while n>0:\n",
    "    rem=n%10\n",
    "    rev=rev*10+rem\n",
    "    n=n//10\n",
    "print(\"The reverse is \",rev)"
   ]
  },
  {
   "cell_type": "code",
   "execution_count": 6,
   "id": "84f3e7bf-9d4a-4d13-a0a3-091f6dffbfa7",
   "metadata": {},
   "outputs": [
    {
     "name": "stdin",
     "output_type": "stream",
     "text": [
      "Enter a number carring more than 1 digit 56\n"
     ]
    },
    {
     "name": "stdout",
     "output_type": "stream",
     "text": [
      "Not Pallendrome  65\n"
     ]
    }
   ],
   "source": [
    "#Pallendrome number\n",
    "\n",
    "n=int(input(\"Enter a number carring more than 1 digit\"))\n",
    "n1=n\n",
    "rev=0\n",
    "while n>0:\n",
    "    rem=n%10\n",
    "    rev=rev*10+rem\n",
    "    n=n//10\n",
    "if rev==n1:\n",
    "    print(\"Pallendrome number \",rev)\n",
    "else:\n",
    "    print(\"Not Pallendrome \",rev)"
   ]
  },
  {
   "cell_type": "code",
   "execution_count": 7,
   "id": "4f90ce86-ec33-4f34-8ca0-f174cbe7939c",
   "metadata": {},
   "outputs": [
    {
     "name": "stdin",
     "output_type": "stream",
     "text": [
      "Enter the number 64\n"
     ]
    },
    {
     "name": "stdout",
     "output_type": "stream",
     "text": [
      "Nonarmstrong Number\n"
     ]
    }
   ],
   "source": [
    "#Armstrong Number\n",
    "\n",
    "n=int(input(\"Enter the number\"))\n",
    "s=0\n",
    "n1=n\n",
    "while n>0:\n",
    "    rem=n%10\n",
    "    s=s+rem**3\n",
    "    n=n//10\n",
    "if s==n1:\n",
    "    print(\"Armstrong Number\")\n",
    "else:\n",
    "    print(\"Nonarmstrong Number\")"
   ]
  },
  {
   "cell_type": "code",
   "execution_count": 8,
   "id": "7a982894-2ab8-4eee-9f28-186f6208072e",
   "metadata": {},
   "outputs": [
    {
     "name": "stdout",
     "output_type": "stream",
     "text": [
      "T\n",
      "i\n",
      "r\n",
      "u\n",
      "v\n",
      "a\n",
      "n\n",
      "t\n",
      "a\n",
      "m\n",
      "p\n",
      "u\n",
      "r\n",
      "a\n",
      "m\n"
     ]
    }
   ],
   "source": [
    "for i in \"Tiruvantampuram\":\n",
    "    print(i)"
   ]
  },
  {
   "cell_type": "code",
   "execution_count": 9,
   "id": "2f725d7e-6ac4-474a-9c26-e9568d10cc1e",
   "metadata": {},
   "outputs": [
    {
     "name": "stdout",
     "output_type": "stream",
     "text": [
      "i\n",
      "u\n",
      "a\n",
      "a\n",
      "u\n",
      "a\n"
     ]
    }
   ],
   "source": [
    "#for vovels in a string\n",
    "\n",
    "for i in \"Tiruvantampuram\":\n",
    "    if i in ['a','e','i','o','u']:\n",
    "        print(i)"
   ]
  },
  {
   "cell_type": "code",
   "execution_count": 10,
   "id": "8e570c1d-7f2e-4fc2-9322-5add5069efd6",
   "metadata": {},
   "outputs": [
    {
     "name": "stdout",
     "output_type": "stream",
     "text": [
      "T\n",
      "r\n",
      "v\n",
      "n\n",
      "t\n",
      "m\n",
      "p\n",
      "r\n",
      "m\n"
     ]
    }
   ],
   "source": [
    "# for consonent in a string\n",
    "\n",
    "for i in \"Tiruvantampuram\":\n",
    "    if i not in ['a','e','i','o','u']:\n",
    "        print(i)"
   ]
  },
  {
   "cell_type": "code",
   "execution_count": 11,
   "id": "4982cda2-da81-4a36-89d7-987c668477c7",
   "metadata": {},
   "outputs": [
    {
     "name": "stdout",
     "output_type": "stream",
     "text": [
      "12\n",
      "23\n",
      "45\n",
      "75\n",
      "84\n",
      "91\n"
     ]
    }
   ],
   "source": [
    "# for printing list\n",
    "\n",
    "for i in [12,23,45,75,84,91]:\n",
    "    print(i)"
   ]
  },
  {
   "cell_type": "code",
   "execution_count": 12,
   "id": "88a5fa58-5529-4b6a-88e5-440f00be1b8b",
   "metadata": {},
   "outputs": [
    {
     "name": "stdout",
     "output_type": "stream",
     "text": [
      "0 1 2 3 4 5 6 7 8 9 "
     ]
    }
   ],
   "source": [
    "# RANGE(START,END,STEP)\n",
    "\n",
    "for i in range(10):\n",
    "    print(i,end=\" \")"
   ]
  },
  {
   "cell_type": "code",
   "execution_count": 13,
   "id": "9e6289f6-c2d3-4ec6-bfc1-4220f0d7ad69",
   "metadata": {},
   "outputs": [
    {
     "name": "stdout",
     "output_type": "stream",
     "text": [
      "1 2 3 4 5 6 7 8 9 10 "
     ]
    }
   ],
   "source": [
    "for i in range(1,11):\n",
    "    print(i,end=\" \")"
   ]
  },
  {
   "cell_type": "code",
   "execution_count": 14,
   "id": "0e0d3c78-1748-441c-8a80-510eeb39020b",
   "metadata": {},
   "outputs": [
    {
     "name": "stdout",
     "output_type": "stream",
     "text": [
      "1 5 9 13 17 21 25 29 33 37 41 45 49 53 57 61 65 69 73 77 81 85 89 93 97 "
     ]
    }
   ],
   "source": [
    "for i in range(1,100,4):\n",
    "    print(i,end=\" \")"
   ]
  },
  {
   "cell_type": "code",
   "execution_count": 15,
   "id": "56af0b07-85f7-4c9e-ab96-6bf8d156eab4",
   "metadata": {},
   "outputs": [
    {
     "name": "stdout",
     "output_type": "stream",
     "text": [
      "2 4 6 8 10 12 14 16 18 20 22 24 26 28 30 32 34 36 38 40 42 44 46 48 50 52 54 56 58 60 62 64 66 68 70 72 74 76 78 80 82 84 86 88 90 92 94 96 98 100 "
     ]
    }
   ],
   "source": [
    "# for even numbers \n",
    "\n",
    "for i in range(1,101):\n",
    "    if i%2==0:\n",
    "        print(i,end=\" \")"
   ]
  },
  {
   "cell_type": "code",
   "execution_count": 16,
   "id": "a259f52b-013c-4a70-b7cf-3424b5dc61b6",
   "metadata": {},
   "outputs": [
    {
     "name": "stdout",
     "output_type": "stream",
     "text": [
      "Sum of even numbers is  2550\n",
      "Sum of odd numbers is  2500\n"
     ]
    }
   ],
   "source": [
    "se=0\n",
    "so=0\n",
    "for i in range(1,101):\n",
    "    if i%2==0:\n",
    "        se=se+i\n",
    "    else:\n",
    "        so=so+i\n",
    "print(\"Sum of even numbers is \",se)\n",
    "print(\"Sum of odd numbers is \",so)"
   ]
  },
  {
   "cell_type": "code",
   "execution_count": 17,
   "id": "cf445a33-6014-4dbe-b475-1393e0f1d22a",
   "metadata": {},
   "outputs": [
    {
     "name": "stdout",
     "output_type": "stream",
     "text": [
      "100 99 98 97 96 95 94 93 92 91 90 89 88 87 86 85 84 83 82 81 80 79 78 77 76 75 74 73 72 71 70 69 68 67 66 65 64 63 62 61 60 59 58 57 56 55 54 53 52 51 50 49 48 47 46 45 44 43 42 41 40 39 38 37 36 35 34 33 32 31 30 29 28 27 26 25 24 23 22 21 20 19 18 17 16 15 14 13 12 11 10 9 8 7 6 5 4 3 2 1 "
     ]
    }
   ],
   "source": [
    "# for reverse printing\n",
    "\n",
    "for i in range(100,0,-1):\n",
    "    print(i,end=\" \")"
   ]
  },
  {
   "cell_type": "code",
   "execution_count": 18,
   "id": "1a054a62-6e15-4827-885b-cd7045381b2e",
   "metadata": {},
   "outputs": [
    {
     "name": "stdin",
     "output_type": "stream",
     "text": [
      "Enter the number 45\n"
     ]
    },
    {
     "name": "stdout",
     "output_type": "stream",
     "text": [
      "45 * 1 = 45\n",
      "45 * 2 = 90\n",
      "45 * 3 = 135\n",
      "45 * 4 = 180\n",
      "45 * 5 = 225\n",
      "45 * 6 = 270\n",
      "45 * 7 = 315\n",
      "45 * 8 = 360\n",
      "45 * 9 = 405\n",
      "45 * 10 = 450\n"
     ]
    }
   ],
   "source": [
    "#for printing tabels\n",
    "\n",
    "n=int(input(\"Enter the number\"))\n",
    "for i in range(1,11):\n",
    "    print(n,\"*\",i,\"=\",n*i)"
   ]
  },
  {
   "cell_type": "code",
   "execution_count": 19,
   "id": "7cb5f571-be41-4d9e-b040-27e7f79b645f",
   "metadata": {},
   "outputs": [
    {
     "name": "stdin",
     "output_type": "stream",
     "text": [
      "Enter a number  99\n"
     ]
    },
    {
     "name": "stdout",
     "output_type": "stream",
     "text": [
      "The factorial is  933262154439441526816992388562667004907159682643816214685929638952175999932299156089414639761565182862536979208272237582511852109168640000000000000000000000\n"
     ]
    }
   ],
   "source": [
    "# for factorial\n",
    "\n",
    "n=int(input(\"Enter a number \"))\n",
    "f=1\n",
    "for i in range(n,0,-1):\n",
    "    f=f*i\n",
    "print(\"The factorial is \",f)"
   ]
  },
  {
   "cell_type": "code",
   "execution_count": 20,
   "id": "ad3adc7d-f1f3-4ed9-b5f4-feebe80c280d",
   "metadata": {},
   "outputs": [
    {
     "name": "stdin",
     "output_type": "stream",
     "text": [
      "Enter a number  1\n"
     ]
    },
    {
     "name": "stdout",
     "output_type": "stream",
     "text": [
      "1 "
     ]
    }
   ],
   "source": [
    "#for factors\n",
    "\n",
    "n=int(input(\"Enter a number \"))\n",
    "for i in range(1,n+1):\n",
    "    if n%i==0:\n",
    "        print(i,end=\" \")"
   ]
  },
  {
   "cell_type": "code",
   "execution_count": 21,
   "id": "944df36c-c782-4a3a-bb78-b3a5b8cc69b8",
   "metadata": {},
   "outputs": [
    {
     "name": "stdout",
     "output_type": "stream",
     "text": [
      "2 3 5 7 11 13 17 19 23 29 31 37 41 43 47 53 59 61 67 71 73 79 83 89 97 "
     ]
    }
   ],
   "source": [
    "# for prime numbers\n",
    "\n",
    "for i in range(1,101):\n",
    "    n=i\n",
    "    j=1\n",
    "    co=0\n",
    "    while j<=n:\n",
    "        if n%j==0: \n",
    "            co=co+1\n",
    "        j=j+1\n",
    "    if co==2:\n",
    "        print(i,end=\" \")"
   ]
  },
  {
   "cell_type": "code",
   "execution_count": 22,
   "id": "94e96746-0120-4d49-b935-4567ce402003",
   "metadata": {},
   "outputs": [
    {
     "name": "stdout",
     "output_type": "stream",
     "text": [
      "11 22 33 44 55 66 77 88 99 101 111 121 131 141 151 161 171 181 191 202 212 222 232 242 252 262 272 282 292 303 313 323 333 343 353 363 373 383 393 404 414 424 434 444 454 464 474 484 494 505 515 525 535 545 555 565 575 585 595 606 616 626 636 646 656 666 676 686 696 707 717 727 737 747 757 767 777 787 797 808 818 828 838 848 858 868 878 888 898 909 919 929 939 949 959 969 979 989 "
     ]
    }
   ],
   "source": [
    "#for pallendrome number\n",
    "\n",
    "for i in range(11,999):\n",
    "    n=i\n",
    "    rev=0\n",
    "    while n>0:\n",
    "        rev=rev*10+n%10\n",
    "        n=n//10\n",
    "    if rev==i:\n",
    "        print(i,end=\" \")"
   ]
  },
  {
   "cell_type": "code",
   "execution_count": 23,
   "id": "302bf7e0-49cb-4056-90e2-858e3ca5f011",
   "metadata": {},
   "outputs": [
    {
     "name": "stdout",
     "output_type": "stream",
     "text": [
      "153 370 371 407 "
     ]
    }
   ],
   "source": [
    "# for Armstrong number\n",
    "\n",
    "for i in range(100,999):\n",
    "    n=i\n",
    "    sum=0\n",
    "    while n>0:\n",
    "        rem=n%10\n",
    "        sum=sum+rem**3\n",
    "        n=n//10\n",
    "    if sum==i:\n",
    "        print(i,end=\" \")"
   ]
  }
 ],
 "metadata": {
  "kernelspec": {
   "display_name": "Python 3 (ipykernel)",
   "language": "python",
   "name": "python3"
  },
  "language_info": {
   "codemirror_mode": {
    "name": "ipython",
    "version": 3
   },
   "file_extension": ".py",
   "mimetype": "text/x-python",
   "name": "python",
   "nbconvert_exporter": "python",
   "pygments_lexer": "ipython3",
   "version": "3.11.7"
  }
 },
 "nbformat": 4,
 "nbformat_minor": 5
}
