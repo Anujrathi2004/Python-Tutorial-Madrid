{
 "cells": [
  {
   "cell_type": "code",
   "execution_count": 1,
   "id": "04079b07-8e10-40f8-8290-799664242678",
   "metadata": {},
   "outputs": [],
   "source": [
    "#LIST TYPES\n",
    "\n",
    "# ls=[12,85,29,45,83]#list of integers\n",
    "# ls=['a','e','i','o','u']#list of character or string\n",
    "# ls==[12.56,45.89]#list of float"
   ]
  },
  {
   "cell_type": "code",
   "execution_count": 2,
   "id": "27a556fb-1bb6-40bb-9338-67d5e28b4902",
   "metadata": {},
   "outputs": [
    {
     "data": {
      "text/plain": [
       "['h', 'e', 'l', 'l', 'o']"
      ]
     },
     "execution_count": 2,
     "metadata": {},
     "output_type": "execute_result"
    }
   ],
   "source": [
    "# LIST CONSTRUCTOR\n",
    "\n",
    "ls=list(\"hello\")\n",
    "ls"
   ]
  },
  {
   "cell_type": "code",
   "execution_count": 3,
   "id": "c9546610-28f3-42bc-8598-4f9b5af06336",
   "metadata": {},
   "outputs": [
    {
     "data": {
      "text/plain": [
       "[12, 23, 3, 4]"
      ]
     },
     "execution_count": 3,
     "metadata": {},
     "output_type": "execute_result"
    }
   ],
   "source": [
    "ls=list((12,23,3,4))\n",
    "ls"
   ]
  },
  {
   "cell_type": "code",
   "execution_count": 4,
   "id": "6f78ee06-c2eb-41c0-aebf-769fea579bcc",
   "metadata": {},
   "outputs": [
    {
     "data": {
      "text/plain": [
       "55"
      ]
     },
     "execution_count": 4,
     "metadata": {},
     "output_type": "execute_result"
    }
   ],
   "source": [
    "#ACCESSING OF LIST ELEMENTS\n",
    "\n",
    "ls=[11,22,33,44,55,66,77,88,99]\n",
    "ls[-5]"
   ]
  },
  {
   "cell_type": "code",
   "execution_count": 5,
   "id": "09b9c74a-a9eb-46e7-8ba6-0ca92b57f96f",
   "metadata": {},
   "outputs": [
    {
     "name": "stdout",
     "output_type": "stream",
     "text": [
      "87\n"
     ]
    }
   ],
   "source": [
    "#NESTED LIST\n",
    "\n",
    "ls=[12,23,34,45,[67,78,89,[98,87,76]],65,[54]]\n",
    "print(ls[4][3][1])"
   ]
  },
  {
   "cell_type": "code",
   "execution_count": 6,
   "id": "29bbed15-4eba-4740-a25f-b9ba0155de2a",
   "metadata": {},
   "outputs": [
    {
     "data": {
      "text/plain": [
       "21"
      ]
     },
     "execution_count": 6,
     "metadata": {},
     "output_type": "execute_result"
    }
   ],
   "source": [
    "ls=[12,23,34,[45,56,78,[89,98,87,[76,65,54,[43,32,21]]]]]\n",
    "ls[3][3][3][3][2]"
   ]
  },
  {
   "cell_type": "code",
   "execution_count": 7,
   "id": "f5d07d2a-b756-4f58-8d30-2ca49289b1b8",
   "metadata": {},
   "outputs": [
    {
     "name": "stdout",
     "output_type": "stream",
     "text": [
      "[12, 23, 34, 45, 56, 67]\n",
      "[12, 23, 'hello', 45, 56, 67]\n"
     ]
    }
   ],
   "source": [
    "# UPDATION OR CHANGING AN ELEMENT IN LIST\n",
    "\n",
    "ls=[12,23,34,45,56,67]\n",
    "print(ls)\n",
    "ls[2]=\"hello\"\n",
    "print(ls)"
   ]
  },
  {
   "cell_type": "code",
   "execution_count": 8,
   "id": "cb429986-d035-4999-954f-23e2c50062ed",
   "metadata": {},
   "outputs": [
    {
     "name": "stdout",
     "output_type": "stream",
     "text": [
      "[45, 56, 67, 78, 89]\n",
      "[12, 23, 34, 45, 56, 67, 78, 89]\n",
      "[45, 56, 67, 78, 89, 98, 87, 76, 65, 43, 32, 21, 10]\n",
      "[12, 23, 34, 45, 56, 67, 78, 89, 98, 87, 76, 65, 43, 32, 21, 10]\n"
     ]
    }
   ],
   "source": [
    "#SLICE OPERATION\n",
    "\n",
    "ls=[12,23,34,45,56,67,78,89,98,87,76,65,43,32,21,10]\n",
    "print(ls[3:8])\n",
    "print(ls[:8])\n",
    "print(ls[3:])\n",
    "print(ls[:])"
   ]
  },
  {
   "cell_type": "code",
   "execution_count": 9,
   "id": "02bc8f50-a766-4f37-a3c3-3c04c6038446",
   "metadata": {},
   "outputs": [
    {
     "name": "stdout",
     "output_type": "stream",
     "text": [
      "[12, 23, 34, 45, 56, 67, 78, 89, 98, 87, 76, 65, 43, 32, 21, 10]\n",
      "[12, 23, 34, 45, 56, 'I', 'AM', 'FINE', 98, 87, 76, 65, 43, 32, 21, 10]\n"
     ]
    }
   ],
   "source": [
    "#UPDATION USING SLICE OPERATION\n",
    "\n",
    "ls=[12,23,34,45,56,67,78,89,98,87,76,65,43,32,21,10]\n",
    "print(ls)\n",
    "ls[5:8]=(\"I\",\"AM\",\"FINE\")\n",
    "print(ls)"
   ]
  },
  {
   "cell_type": "code",
   "execution_count": 10,
   "id": "b2dee19c-e1d4-4acf-a6e7-7231fb66cc42",
   "metadata": {},
   "outputs": [
    {
     "name": "stdout",
     "output_type": "stream",
     "text": [
      "[45, 67, 89, 87, 65, 32, 10]\n"
     ]
    }
   ],
   "source": [
    "ls=[12,23,34,45,56,67,78,89,98,87,76,65,43,32,21,10]\n",
    "print(ls[3:16:2])"
   ]
  },
  {
   "cell_type": "code",
   "execution_count": 11,
   "id": "cf1ba5df-a1eb-4a37-99ef-725cde080e51",
   "metadata": {},
   "outputs": [
    {
     "name": "stdout",
     "output_type": "stream",
     "text": [
      "[10, 21, 32, 43, 65, 76, 87, 98]\n",
      "[10, 21, 32, 43, 65, 76, 87, 98, 89, 78, 67, 56, 45, 34, 23, 12]\n"
     ]
    }
   ],
   "source": [
    "ls=[12,23,34,45,56,67,78,89,98,87,76,65,43,32,21,10]\n",
    "print(ls[-1:-9:-1])\n",
    "print(ls[::-1])"
   ]
  },
  {
   "cell_type": "code",
   "execution_count": 12,
   "id": "551cddb9-eb0f-4d29-b139-61327567dfac",
   "metadata": {},
   "outputs": [
    {
     "name": "stdout",
     "output_type": "stream",
     "text": [
      "[12, 23, 34, 45, 56, 67, 78, 89, 98, 87, 76, 65, 43, 32, 21, 10]\n",
      "[12, 23, 34, 45, 56, 98, 87, 76, 65, 43, 32, 21, 10]\n"
     ]
    }
   ],
   "source": [
    "#USING DEL TO DELETE ELEMENT\n",
    "\n",
    "ls=[12,23,34,45,56,67,78,89,98,87,76,65,43,32,21,10]\n",
    "print(ls)\n",
    "del ls[5:8]\n",
    "print(ls)"
   ]
  },
  {
   "cell_type": "code",
   "execution_count": 13,
   "id": "42133b62-b607-4aa0-a668-cab95f3bc022",
   "metadata": {},
   "outputs": [
    {
     "name": "stdout",
     "output_type": "stream",
     "text": [
      "[12, 23, 34, 45, 56, 67, 78, 89, 98, 87, 76, 65, 43, 32, 21, 10]\n",
      "[12, 23, 34, 45, 67, 78, 89, 98, 87, 76, 65, 43, 32, 21, 10]\n",
      "[12, 23, 34, 45, 67, 78, 89, 98, 87, 76, 65, 43, 32, 21]\n",
      "[12, 23, 34, 45, 67, 78, 89, 98, 87, 76, 65, 43, 32]\n",
      "[12, 23, 34, 45, 67, 78, 89, 98, 87, 76, 65, 43]\n"
     ]
    }
   ],
   "source": [
    "#USING POP TO DELETE ELEMENT\n",
    "\n",
    "ls=[12,23,34,45,56,67,78,89,98,87,76,65,43,32,21,10]\n",
    "print(ls)\n",
    "ls.pop(4)\n",
    "print(ls)\n",
    "ls.pop()\n",
    "print(ls)\n",
    "ls.pop()\n",
    "print(ls)\n",
    "ls.pop()\n",
    "print(ls)"
   ]
  },
  {
   "cell_type": "code",
   "execution_count": 14,
   "id": "e3fa4e3e-e090-47ca-8409-65aaa39a4821",
   "metadata": {},
   "outputs": [
    {
     "name": "stdout",
     "output_type": "stream",
     "text": [
      "[12, 23, 34, 45, 56, 67, 78, 89, 98, 87, 76, 65, 43, 32, 21, 10]\n",
      "[12, 23, 34, 56, 67, 78, 89, 98, 87, 76, 65, 43, 32, 21, 10]\n"
     ]
    }
   ],
   "source": [
    "#USING REMOVE TO DELETE ELEMENT\n",
    "\n",
    "ls=[12,23,34,45,56,67,78,89,98,87,76,65,43,32,21,10]\n",
    "print(ls)\n",
    "ls.remove(45)\n",
    "print(ls)"
   ]
  },
  {
   "cell_type": "code",
   "execution_count": 15,
   "id": "1eeac757-e699-40ce-8db4-445d54ac24f7",
   "metadata": {},
   "outputs": [
    {
     "name": "stdout",
     "output_type": "stream",
     "text": [
      "[12, 23, 34, 45, 56, 67, 78]\n",
      "[12, 23, 34, 45, 56, 67, 78, 87]\n"
     ]
    }
   ],
   "source": [
    "# USING APPEND IN LIST\n",
    "\n",
    "ls=[12,23,34,45,56,67,78]\n",
    "print(ls)\n",
    "ls.append(87)\n",
    "print(ls)"
   ]
  },
  {
   "cell_type": "code",
   "execution_count": 16,
   "id": "c0d5f733-6754-478b-aa1e-bd49a5dc9aee",
   "metadata": {},
   "outputs": [
    {
     "name": "stdout",
     "output_type": "stream",
     "text": [
      "[12, 23, 34, 45, 56, 67, 78]\n",
      "[12, 23, 34, 45, 56, 67, 78, [87, 'hello', 'Anuj']]\n"
     ]
    }
   ],
   "source": [
    "ls=[12,23,34,45,56,67,78]\n",
    "print(ls)\n",
    "ls.append([87,\"hello\",\"Anuj\"])\n",
    "print(ls)"
   ]
  },
  {
   "cell_type": "code",
   "execution_count": 17,
   "id": "7eb6ff06-ebef-4aea-93dc-f990a2660545",
   "metadata": {},
   "outputs": [
    {
     "name": "stdin",
     "output_type": "stream",
     "text": [
      "Enter a number  1\n",
      "Enter a number  2\n",
      "Enter a number  3\n",
      "Enter a number  4\n",
      "Enter a number  5\n",
      "Enter a number  6\n",
      "Enter a number  7\n",
      "Enter a number  8\n",
      "Enter a number  9\n",
      "Enter a number  0\n"
     ]
    },
    {
     "name": "stdout",
     "output_type": "stream",
     "text": [
      "[1, 2, 3, 4, 5, 6, 7, 8, 9, 0]\n"
     ]
    }
   ],
   "source": [
    "#  MAKE A LIST BY GIVING ELEMENTS ONE BY ONE\n",
    "\n",
    "ls=[]\n",
    "for i in range(10):\n",
    "    n=int(input(\"Enter a number \"))\n",
    "    ls.append(n)\n",
    "print(ls)"
   ]
  },
  {
   "cell_type": "code",
   "execution_count": 18,
   "id": "696cd9d3-6ba1-4352-9ce6-cf0d99d8a85a",
   "metadata": {},
   "outputs": [
    {
     "name": "stdin",
     "output_type": "stream",
     "text": [
      "Enter a number  1\n",
      "Enter a number  2\n",
      "Enter a number  3\n",
      "Enter a number  4\n",
      "Enter a number  4\n",
      "Enter a number  5\n",
      "Enter a number  6\n",
      "Enter a number  6\n",
      "Enter a number  7\n",
      "Enter a number  8\n"
     ]
    },
    {
     "name": "stdout",
     "output_type": "stream",
     "text": [
      "Original list is  [1, 2, 3, 4, 4, 5, 6, 6, 7, 8]\n",
      "Even numbers are  [2, 4, 4, 6, 6, 8]\n",
      "Odd numbers are  [1, 3, 5, 7]\n"
     ]
    }
   ],
   "source": [
    "# SEPERATE ODD AND EVEN NUMBERS FROM A LIST\n",
    "\n",
    "ls=[]\n",
    "lse=[]\n",
    "lso=[]\n",
    "for i in range(10):\n",
    "    n=int(input(\"Enter a number \"))\n",
    "    ls.append(n)\n",
    "for i in ls:\n",
    "    if i%2==0:\n",
    "        lse.append(i)\n",
    "    else:\n",
    "        lso.append(i)\n",
    "print(\"Original list is \",ls)\n",
    "print(\"Even numbers are \",lse)\n",
    "print(\"Odd numbers are \",lso)"
   ]
  },
  {
   "cell_type": "code",
   "execution_count": 19,
   "id": "327e407f-1986-4161-a2d0-1e456e63c535",
   "metadata": {},
   "outputs": [
    {
     "name": "stdout",
     "output_type": "stream",
     "text": [
      "Enter  1 number \n"
     ]
    },
    {
     "name": "stdin",
     "output_type": "stream",
     "text": [
      " 10\n"
     ]
    },
    {
     "name": "stdout",
     "output_type": "stream",
     "text": [
      "Enter  2 number \n"
     ]
    },
    {
     "name": "stdin",
     "output_type": "stream",
     "text": [
      " 3980\n"
     ]
    },
    {
     "name": "stdout",
     "output_type": "stream",
     "text": [
      "Enter  3 number \n"
     ]
    },
    {
     "name": "stdin",
     "output_type": "stream",
     "text": [
      " 354565\n"
     ]
    },
    {
     "name": "stdout",
     "output_type": "stream",
     "text": [
      "Enter  4 number \n"
     ]
    },
    {
     "name": "stdin",
     "output_type": "stream",
     "text": [
      " 456\n"
     ]
    },
    {
     "name": "stdout",
     "output_type": "stream",
     "text": [
      "Enter  5 number \n"
     ]
    },
    {
     "name": "stdin",
     "output_type": "stream",
     "text": [
      " 596\n"
     ]
    },
    {
     "name": "stdout",
     "output_type": "stream",
     "text": [
      "[10, 3980, 354565, 456, 596]\n",
      "The Largest number is  354565\n"
     ]
    }
   ],
   "source": [
    "# FIND LARGEST NUMBER IN A LIST\n",
    "\n",
    "ls=[]\n",
    "for i in range(5):\n",
    "    print(\"Enter \",i+1,\"number \")\n",
    "    n=int(input())\n",
    "    ls.append(n)\n",
    "print(ls)\n",
    "print(\"The Largest number is \",max(ls))"
   ]
  },
  {
   "cell_type": "code",
   "execution_count": 20,
   "id": "a4eddb5f-e68d-4e2d-9716-b2080b67431f",
   "metadata": {},
   "outputs": [
    {
     "name": "stdin",
     "output_type": "stream",
     "text": [
      "Enter a number  48664\n",
      "Enter a number  4\n",
      "Enter a number  486\n",
      "Enter a number  4\n",
      "Enter a number  864\n"
     ]
    },
    {
     "name": "stdout",
     "output_type": "stream",
     "text": [
      "The list is  [48664, 4, 486, 4, 864]\n",
      "Largest number is  48664\n"
     ]
    }
   ],
   "source": [
    "ls=[]\n",
    "for i in range(5):\n",
    "    n=int(input(\"Enter a number \"))\n",
    "    ls.append(n)\n",
    "print(\"The list is \",ls)\n",
    "\n",
    "m=ls[0]\n",
    "\n",
    "for i in ls:\n",
    "    if i>m:\n",
    "        m=i\n",
    "print(\"Largest number is \",m)"
   ]
  },
  {
   "cell_type": "code",
   "execution_count": 21,
   "id": "d8ffd1a7-eb03-4974-be57-c8d0cbfce16d",
   "metadata": {},
   "outputs": [
    {
     "name": "stdin",
     "output_type": "stream",
     "text": [
      "Enter a number  5\n",
      "Enter a number  56\n",
      "Enter a number  564\n",
      "Enter a number  98\n",
      "Enter a number  6\n"
     ]
    },
    {
     "name": "stdout",
     "output_type": "stream",
     "text": [
      "The list is  [5, 56, 564, 98, 6]\n",
      "The minimum number is  5\n"
     ]
    }
   ],
   "source": [
    "#TO FIND THE SMALLEST ELEMENT IN A LIST (USING MIN)\n",
    "\n",
    "ls=[]\n",
    "for i in range(5):\n",
    "    n=int(input(\"Enter a number \"))\n",
    "    ls.append(n)\n",
    "print(\"The list is \",ls)\n",
    "print(\"The minimum number is \" ,min(ls))"
   ]
  },
  {
   "cell_type": "code",
   "execution_count": 25,
   "id": "f43f534a-bcca-42d3-a5ab-96097fbd83bf",
   "metadata": {},
   "outputs": [
    {
     "name": "stdin",
     "output_type": "stream",
     "text": [
      "Enter a number  621\n",
      "Enter a number  9\n",
      "Enter a number  464\n",
      "Enter a number  4\n",
      "Enter a number  498\n"
     ]
    },
    {
     "name": "stdout",
     "output_type": "stream",
     "text": [
      "The list is  [621, 9, 464, 4, 498]\n",
      "The smallest number is  4\n"
     ]
    }
   ],
   "source": [
    "ls=[]\n",
    "for i in range(5):\n",
    "    n=int(input(\"Enter a number \"))\n",
    "    ls.append(n)\n",
    "print(\"The list is \",ls)\n",
    "\n",
    "mi=ls[0]\n",
    "\n",
    "for i in ls:\n",
    "    if mi>i:\n",
    "        mi=i\n",
    "print(\"The smallest number is \",mi)"
   ]
  },
  {
   "cell_type": "code",
   "execution_count": 24,
   "id": "2756dd64-eff0-484d-8fca-258124575747",
   "metadata": {},
   "outputs": [
    {
     "name": "stdin",
     "output_type": "stream",
     "text": [
      "Enter a number  98\n",
      "Enter a number  2\n",
      "Enter a number  98\n",
      "Enter a number  232\n",
      "Enter a number  94\n",
      "Enter a number  6\n",
      "Enter a number  2695\n",
      "Enter a number  15\n",
      "Enter a number  4565\n",
      "Enter a number  4\n"
     ]
    },
    {
     "name": "stdout",
     "output_type": "stream",
     "text": [
      "The list is  [98, 2, 98, 232, 94, 6, 2695, 15, 4565, 4]\n"
     ]
    },
    {
     "name": "stdin",
     "output_type": "stream",
     "text": [
      "Enter a number for comparision  984\n"
     ]
    },
    {
     "name": "stdout",
     "output_type": "stream",
     "text": [
      "There are  2 numbers greater,  8 numbers smaller and  0 numbers equal\n"
     ]
    }
   ],
   "source": [
    "ls=[]\n",
    "cg=0\n",
    "cs=0\n",
    "ce=0\n",
    "for i in range(10):\n",
    "    n=int(input(\"Enter a number \"))\n",
    "    ls.append(n)\n",
    "print(\"The list is \",ls)\n",
    "\n",
    "c=int(input(\"Enter a number for comparision \"))\n",
    "for i in ls:\n",
    "    if i>c:\n",
    "        cg=cg+1\n",
    "    elif i<c:\n",
    "        cs=cs+1\n",
    "    else:\n",
    "        ce=ce+1\n",
    "print(\"There are \",cg,\"numbers greater, \",cs,\"numbers smaller and \",ce,\"numbers equal\")"
   ]
  },
  {
   "cell_type": "code",
   "execution_count": 26,
   "id": "be4146b3-6c65-47fe-bf30-8544f1c7581f",
   "metadata": {},
   "outputs": [
    {
     "name": "stdin",
     "output_type": "stream",
     "text": [
      "Enter a number  4\n",
      "Enter a number  464\n",
      "Enter a number  48\n",
      "Enter a number  16\n",
      "Enter a number  49\n",
      "Enter a number  16\n",
      "Enter a number  9\n",
      "Enter a number  6\n",
      "Enter a number  9\n",
      "Enter a number  612\n"
     ]
    },
    {
     "name": "stdout",
     "output_type": "stream",
     "text": [
      "The list is  [4, 464, 48, 16, 49, 16, 9, 6, 9, 612]\n"
     ]
    },
    {
     "name": "stdin",
     "output_type": "stream",
     "text": [
      "Enter the number to be searched  9\n"
     ]
    },
    {
     "name": "stdout",
     "output_type": "stream",
     "text": [
      "9  is found at  7  position\n",
      "9  is found at  9  position\n",
      "9  is repeated  2  times in the list\n"
     ]
    }
   ],
   "source": [
    "# FIND THE OCCURANCE OF A NUMBER IN A LIST WITH POSITION\n",
    "\n",
    "ls=[]\n",
    "for i in range(10):\n",
    "    n=int(input(\"Enter a number \"))\n",
    "    ls.append(n)\n",
    "print(\"The list is \",ls)\n",
    "\n",
    "co=0\n",
    "n1=int(input(\"Enter the number to be searched \"))\n",
    "for i in range(len(ls)):\n",
    "    if n1==ls[i]:\n",
    "        co=co+1\n",
    "        if co>0:\n",
    "            print(n1,\" is found at \",i+1,\" position\")\n",
    "print(n1,\" is repeated \",co,\" times in the list\")\n",
    "        "
   ]
  },
  {
   "cell_type": "code",
   "execution_count": 27,
   "id": "f1fe6c2c-ae6b-4526-b911-f86347ce73d7",
   "metadata": {},
   "outputs": [
    {
     "name": "stdout",
     "output_type": "stream",
     "text": [
      "[31, 456, 54, 345, 35, 35, 345, 45, 456, 45]\n",
      "[31, 456, 54, 345, 35, 35, 345, 45, 456, 45, 95, 56, 198, 9]\n"
     ]
    }
   ],
   "source": [
    "# USING EXTEND IN LIST TO ADD ELEMENT\n",
    "\n",
    "ls=[31,456,54,345,35,35,345,45,456,45,]\n",
    "print(ls)\n",
    "ls.extend((95,56,198,9))\n",
    "print(ls)"
   ]
  },
  {
   "cell_type": "code",
   "execution_count": 28,
   "id": "0dfe08e4-3e96-4cd5-bfee-f5ec74b73974",
   "metadata": {},
   "outputs": [
    {
     "name": "stdout",
     "output_type": "stream",
     "text": [
      "[12, 23, 34, 45, 'I', 'AM', 'FINE', 'HOW', 'ARE', 'YOU']\n"
     ]
    }
   ],
   "source": [
    "ls=[12,23,34,45]\n",
    "ls2=[\"I\",\"AM\",\"FINE\"]\n",
    "ls3=[\"HOW\",\"ARE\",\"YOU\"]\n",
    "ls.extend((*ls2,*ls3))\n",
    "print(ls)"
   ]
  },
  {
   "cell_type": "code",
   "execution_count": 29,
   "id": "a215bf43-a466-4f73-b2e8-529b2dc3eaa7",
   "metadata": {},
   "outputs": [
    {
     "name": "stdout",
     "output_type": "stream",
     "text": [
      "[12, 23, 34, 45, 56, 67]\n",
      "[12, 23, 34, 'ANUJ', 45, 56, 67]\n"
     ]
    }
   ],
   "source": [
    "#USING 'INSERT' TO INSERT AN ELEMENT IN A LIST\n",
    "\n",
    "ls=[12,23,34,45,56,67]\n",
    "print(ls)\n",
    "ls.insert(3,\"ANUJ\")\n",
    "print(ls)"
   ]
  },
  {
   "cell_type": "code",
   "execution_count": 30,
   "id": "81654c6c-01dc-4d1f-ac0b-550c134e023e",
   "metadata": {},
   "outputs": [
    {
     "name": "stdout",
     "output_type": "stream",
     "text": [
      "[12, 23, 34, 45, 56, 67]\n",
      "[]\n"
     ]
    }
   ],
   "source": [
    "# USING 'CLEAR' TO REMOVE ELEMENTS OF A LIST\n",
    "\n",
    "ls=[12,23,34,45,56,67]\n",
    "print(ls)\n",
    "ls.clear()\n",
    "print(ls)"
   ]
  },
  {
   "cell_type": "code",
   "execution_count": 31,
   "id": "7b053505-406b-49aa-9370-905edd30b34d",
   "metadata": {},
   "outputs": [
    {
     "name": "stdout",
     "output_type": "stream",
     "text": [
      "[12, 23, 34, 45, 56, 67, 23]\n",
      "2\n"
     ]
    }
   ],
   "source": [
    "#USING 'COUNT' TO COUNT THE OCCURANCE OF AN ELEMENT IN A LIST\n",
    "\n",
    "ls=[12,23,34,45,56,67,23]\n",
    "print(ls)\n",
    "x=ls.count(23)\n",
    "print(x)"
   ]
  },
  {
   "cell_type": "code",
   "execution_count": 32,
   "id": "ffd048cd-37e6-4984-bc61-b84f312f4b3c",
   "metadata": {},
   "outputs": [
    {
     "name": "stdout",
     "output_type": "stream",
     "text": [
      "[12, 23, 34, 45, 56, 67, 23]\n",
      "2\n"
     ]
    }
   ],
   "source": [
    "#USING 'INDEX' TO FIND FIRST OCCURANCE OF AN ELEMENT IN A LIST\n",
    "\n",
    "ls=[12,23,34,45,56,67,23]\n",
    "print(ls)\n",
    "x=ls.index(34)\n",
    "print(x)"
   ]
  },
  {
   "cell_type": "code",
   "execution_count": 33,
   "id": "479daf65-e531-4e82-afdb-454e92b5b219",
   "metadata": {},
   "outputs": [
    {
     "name": "stdout",
     "output_type": "stream",
     "text": [
      "[12, 23, 34, 45, 56, 67]\n",
      "[67, 56, 45, 34, 23, 12]\n"
     ]
    }
   ],
   "source": [
    "#USING 'REVERSE' TO REVERSE THE ORDER OF THE LIST\n",
    "\n",
    "ls=[12,23,34,45,56,67]\n",
    "print(ls)\n",
    "ls.reverse()\n",
    "print(ls)"
   ]
  },
  {
   "cell_type": "code",
   "execution_count": 34,
   "id": "4376b8ec-435f-423b-b7ac-d3cb911978ca",
   "metadata": {},
   "outputs": [
    {
     "name": "stdout",
     "output_type": "stream",
     "text": [
      "[4556, 7, 8431, 846, 78, 231, 98, 84, 15, 98, 564, 1, 847, 8, 456]\n",
      "[1, 7, 8, 15, 78, 84, 98, 98, 231, 456, 564, 846, 847, 4556, 8431]\n"
     ]
    }
   ],
   "source": [
    "#USING SORT TO PRINT THE LIST IN ASCENDING ORDER\n",
    "\n",
    "ls=[4556,7,8431,846,78,231,98,84,15,98,564,1,847,8,456]\n",
    "print(ls)\n",
    "ls.sort()\n",
    "print(ls)"
   ]
  },
  {
   "cell_type": "code",
   "execution_count": 35,
   "id": "ff76f077-ccd2-4520-b95e-9a75d6e2f05c",
   "metadata": {},
   "outputs": [
    {
     "name": "stdout",
     "output_type": "stream",
     "text": [
      "[4556, 7, 8431, 846, 78, 231, 98, 84, 15, 98, 564, 1, 847, 8, 456]\n",
      "[8431, 4556, 847, 846, 564, 456, 231, 98, 98, 84, 78, 15, 8, 7, 1]\n"
     ]
    }
   ],
   "source": [
    "#USING SORT TO PRINT THE LIST IN DECENDING ORDER\n",
    "\n",
    "ls=[4556,7,8431,846,78,231,98,84,15,98,564,1,847,8,456]\n",
    "print(ls)\n",
    "ls.sort(reverse=True)\n",
    "print(ls)"
   ]
  },
  {
   "cell_type": "code",
   "execution_count": 36,
   "id": "1a1ebfc0-8ddc-4120-8b14-efee7a0f1448",
   "metadata": {},
   "outputs": [
    {
     "name": "stdout",
     "output_type": "stream",
     "text": [
      "[78, 45, 456, 56, 7]\n",
      "[78, 45, 456, 56, 7]\n",
      "[78, 45, 'ANUJ', 56, 7]\n",
      "[78, 45, 'ANUJ', 56, 7]\n"
     ]
    }
   ],
   "source": [
    "#USING \"=\" TO MAKE A COPY OF A LIST\n",
    "\n",
    "ls=[78,45,456,56,7]\n",
    "ls1=ls\n",
    "print(ls)\n",
    "print(ls1)\n",
    "ls[2]=\"ANUJ\"\n",
    "print(ls)\n",
    "print(ls1)"
   ]
  },
  {
   "cell_type": "code",
   "execution_count": 37,
   "id": "9cc21028-768b-4aba-a2af-5c86f8e91719",
   "metadata": {},
   "outputs": [
    {
     "name": "stdout",
     "output_type": "stream",
     "text": [
      "[78, 45, 456, 56, 7]\n",
      "[78, 45, 456, 56, 7]\n",
      "[78, 45, 'ANUJ', 56, 7]\n",
      "[78, 45, 456, 56, 7]\n"
     ]
    }
   ],
   "source": [
    "#USING 'COPY' TO MAKE A COPY OF A LIST\n",
    "\n",
    "ls=[78,45,456,56,7]\n",
    "ls1=ls.copy()\n",
    "print(ls)\n",
    "print(ls1)\n",
    "ls[2]=\"ANUJ\"\n",
    "print(ls)\n",
    "print(ls1)"
   ]
  },
  {
   "cell_type": "code",
   "execution_count": 38,
   "id": "0b6b6416-9849-4f35-be44-3b03dbcb9053",
   "metadata": {},
   "outputs": [
    {
     "data": {
      "text/plain": [
       "['Anuj', 'Anuj']"
      ]
     },
     "execution_count": 38,
     "metadata": {},
     "output_type": "execute_result"
    }
   ],
   "source": [
    "l=[\"Anuj\"]\n",
    "l*2"
   ]
  },
  {
   "cell_type": "code",
   "execution_count": 39,
   "id": "3f3364f0-df1f-49d7-a903-73d1dab54040",
   "metadata": {},
   "outputs": [
    {
     "name": "stdout",
     "output_type": "stream",
     "text": [
      "1 2 3 4 "
     ]
    }
   ],
   "source": [
    "for i in range(1,11):\n",
    "    if i==5:\n",
    "        break\n",
    "    print(i,end=\" \")"
   ]
  },
  {
   "cell_type": "code",
   "execution_count": 40,
   "id": "0873d13d-6206-40a7-9e87-22d63c5e0bfc",
   "metadata": {},
   "outputs": [
    {
     "name": "stdout",
     "output_type": "stream",
     "text": [
      "6 7 8 9 10 "
     ]
    }
   ],
   "source": [
    "for i in range(1,11):\n",
    "    if i<=5:\n",
    "        continue\n",
    "    print(i,end=\" \")"
   ]
  },
  {
   "cell_type": "code",
   "execution_count": 41,
   "id": "44d72d21-7a2d-4335-87db-110612a68696",
   "metadata": {},
   "outputs": [
    {
     "name": "stdout",
     "output_type": "stream",
     "text": [
      "1 2 3 4 5 6 7 8 9 10 "
     ]
    }
   ],
   "source": [
    "for i in range(1,11):\n",
    "    if i==5:\n",
    "        pass\n",
    "    print(i,end=\" \")"
   ]
  },
  {
   "cell_type": "code",
   "execution_count": 42,
   "id": "74302bce-6943-490e-85b4-b3785a2a91da",
   "metadata": {},
   "outputs": [
    {
     "name": "stdout",
     "output_type": "stream",
     "text": [
      "1 2 3 4 6 7 8 9 10 "
     ]
    }
   ],
   "source": [
    "for i in range(1,11):\n",
    "    if i==5:\n",
    "        continue\n",
    "    print(i,end=\" \")"
   ]
  },
  {
   "cell_type": "code",
   "execution_count": 43,
   "id": "73545688-d050-4ace-bc11-4d57876298a8",
   "metadata": {},
   "outputs": [
    {
     "name": "stdout",
     "output_type": "stream",
     "text": [
      "A\n",
      "n\n",
      "j\n"
     ]
    }
   ],
   "source": [
    "a=\"Anuj\"\n",
    "for i in a:\n",
    "    if i==\"u\":\n",
    "        continue\n",
    "        print(\"hello\")\n",
    "    else:\n",
    "        print(i)"
   ]
  },
  {
   "cell_type": "code",
   "execution_count": 44,
   "id": "eb6e7b8d-9ee2-4ba8-b21a-ccc48ee40056",
   "metadata": {},
   "outputs": [
    {
     "name": "stdout",
     "output_type": "stream",
     "text": [
      "s\n",
      "u\n"
     ]
    }
   ],
   "source": [
    "s='suraj'\n",
    "for val in s:\n",
    "    if val==\"r\":\n",
    "        break\n",
    "    print(val)"
   ]
  },
  {
   "cell_type": "code",
   "execution_count": null,
   "id": "5ba7e27a-6e90-49c4-9737-d84d059a6262",
   "metadata": {},
   "outputs": [],
   "source": []
  }
 ],
 "metadata": {
  "kernelspec": {
   "display_name": "Python 3 (ipykernel)",
   "language": "python",
   "name": "python3"
  },
  "language_info": {
   "codemirror_mode": {
    "name": "ipython",
    "version": 3
   },
   "file_extension": ".py",
   "mimetype": "text/x-python",
   "name": "python",
   "nbconvert_exporter": "python",
   "pygments_lexer": "ipython3",
   "version": "3.11.7"
  }
 },
 "nbformat": 4,
 "nbformat_minor": 5
}
